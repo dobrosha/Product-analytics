{
 "cells": [
  {
   "cell_type": "markdown",
   "id": "8adadf59",
   "metadata": {},
   "source": [
    "## Анализ A/B тестирования двух вариантов дизайна веб-страницы (старый дизайн vs новый дизайн) \n"
   ]
  },
  {
   "cell_type": "markdown",
   "id": "8c88816c",
   "metadata": {},
   "source": [
    "Текущий коэффициент конверсии составляет около 12%. \n",
    "UX-дизайнер разработал новый вариант страницы товара, надеясь повысить коэффициент конверсии.\n",
    "Заказчики хотят увеличить конверсию на 2%.\n",
    "=> если новая версия страницы увеличит конверсию до 14%, ее можно будет считать успешной.\n",
    "\n",
    "Сформулируем две гипотезы (Н0 и Н1):\n",
    "    \n",
    "H₀ (нулевая гипотеза): конверсия нового и старого дизайна не различается \\\n",
    "H₁ (альтернативная гипотеза): конверсия различается\n",
    "\n",
    "Зададим уровень значимости α = 0.05 (5%)\n",
    "\n",
    "\n",
    "Нам нужны две группы пользователей: \n",
    "\n",
    "**Контрольная** группа – видит старый дизайн \\\n",
    "**Экспериментальная** группа – видит новый дизайн \n",
    "\n",
    "Это будет независимая переменная, так как мы меняем только один фактор – дизайн страницы. Это позволяет контролировать другие переменные (например, сезонность) и точно определить влияние нового дизайна.\n",
    "\n",
    "Зависимая переменная – коэффициент конверсии. Для кодирования используем бинарную переменную:\n",
    "\n",
    "**0** – пользователь не совершил покупку \\\n",
    "**1** – пользователь совершил покупку\n",
    "\n",
    "Таким образом, среднее значение в каждой группе будет равно коэффициенту конверсии.    \n",
    "    \n"
   ]
  },
  {
   "cell_type": "code",
   "execution_count": 16,
   "id": "866b6bf8",
   "metadata": {},
   "outputs": [],
   "source": [
    "import numpy as np\n",
    "import pandas as pd\n",
    "import scipy.stats as stats\n",
    "import statsmodels.stats.api as sms\n",
    "import matplotlib as mpl\n",
    "import matplotlib.pyplot as plt\n",
    "import seaborn as sns\n",
    "import math"
   ]
  },
  {
   "cell_type": "markdown",
   "id": "efb899b1",
   "metadata": {},
   "source": [
    "Подсчитаем необходимый размер выборки для A/B - теста с помощью Power Analysis (анализ мощности)."
   ]
  },
  {
   "cell_type": "code",
   "execution_count": 98,
   "id": "edfade3e",
   "metadata": {},
   "outputs": [
    {
     "name": "stdout",
     "output_type": "stream",
     "text": [
      "Количество пользователей, необходимое в каждой группе: 4433\n"
     ]
    }
   ],
   "source": [
    "# sms.proportion_effectsize() вычисляет размер эффекта (effect size) \n",
    "# по двум пропорциям (текущая конверсия 0.13 и ожидаемая 0.15).\n",
    "# Размер эффекта показывает, насколько сильно отличается новое значение от старого.\n",
    "effect_size = sms.proportion_effectsize(0.12, 0.14)\n",
    "\n",
    "# solve_power() решает уравнение мощности теста и возвращает количество наблюдений, \n",
    "# необходимых в каждой группе.\n",
    "required_n = sms.NormalIndPower().solve_power(\n",
    "    effect_size, \n",
    "    power=0.8, # вероятность найти реальную разницу, если она есть (обычно 80%).\n",
    "    alpha=0.05, \n",
    "    ratio=1 # равное количество наблюдений в контрольной и тестовой группах.\n",
    "    )                                                 \n",
    "\n",
    "required_n = math.ceil(required_n)\n",
    "print(f'Количество пользователей, необходимое в каждой группе: {required_n}')"
   ]
  },
  {
   "cell_type": "code",
   "execution_count": 99,
   "id": "7483d1d8",
   "metadata": {},
   "outputs": [
    {
     "data": {
      "text/plain": [
       "-0.05951079608252363"
      ]
     },
     "execution_count": 99,
     "metadata": {},
     "output_type": "execute_result"
    }
   ],
   "source": [
    "effect_size"
   ]
  },
  {
   "cell_type": "code",
   "execution_count": 100,
   "id": "0de28f60",
   "metadata": {},
   "outputs": [],
   "source": [
    "df = pd.read_csv('/Users/Dobrosha/Downloads/ab_data.csv')"
   ]
  },
  {
   "cell_type": "code",
   "execution_count": 101,
   "id": "376dfc2c",
   "metadata": {},
   "outputs": [
    {
     "data": {
      "text/html": [
       "<div>\n",
       "<style scoped>\n",
       "    .dataframe tbody tr th:only-of-type {\n",
       "        vertical-align: middle;\n",
       "    }\n",
       "\n",
       "    .dataframe tbody tr th {\n",
       "        vertical-align: top;\n",
       "    }\n",
       "\n",
       "    .dataframe thead th {\n",
       "        text-align: right;\n",
       "    }\n",
       "</style>\n",
       "<table border=\"1\" class=\"dataframe\">\n",
       "  <thead>\n",
       "    <tr style=\"text-align: right;\">\n",
       "      <th></th>\n",
       "      <th>user_id</th>\n",
       "      <th>timestamp</th>\n",
       "      <th>group</th>\n",
       "      <th>landing_page</th>\n",
       "      <th>converted</th>\n",
       "    </tr>\n",
       "  </thead>\n",
       "  <tbody>\n",
       "    <tr>\n",
       "      <th>0</th>\n",
       "      <td>851104</td>\n",
       "      <td>2017-01-21 22:11:48.556739</td>\n",
       "      <td>control</td>\n",
       "      <td>old_page</td>\n",
       "      <td>0</td>\n",
       "    </tr>\n",
       "    <tr>\n",
       "      <th>1</th>\n",
       "      <td>804228</td>\n",
       "      <td>2017-01-12 08:01:45.159739</td>\n",
       "      <td>control</td>\n",
       "      <td>old_page</td>\n",
       "      <td>0</td>\n",
       "    </tr>\n",
       "    <tr>\n",
       "      <th>2</th>\n",
       "      <td>661590</td>\n",
       "      <td>2017-01-11 16:55:06.154213</td>\n",
       "      <td>treatment</td>\n",
       "      <td>new_page</td>\n",
       "      <td>0</td>\n",
       "    </tr>\n",
       "    <tr>\n",
       "      <th>3</th>\n",
       "      <td>853541</td>\n",
       "      <td>2017-01-08 18:28:03.143765</td>\n",
       "      <td>treatment</td>\n",
       "      <td>new_page</td>\n",
       "      <td>0</td>\n",
       "    </tr>\n",
       "    <tr>\n",
       "      <th>4</th>\n",
       "      <td>864975</td>\n",
       "      <td>2017-01-21 01:52:26.210827</td>\n",
       "      <td>control</td>\n",
       "      <td>old_page</td>\n",
       "      <td>1</td>\n",
       "    </tr>\n",
       "  </tbody>\n",
       "</table>\n",
       "</div>"
      ],
      "text/plain": [
       "   user_id                   timestamp      group landing_page  converted\n",
       "0   851104  2017-01-21 22:11:48.556739    control     old_page          0\n",
       "1   804228  2017-01-12 08:01:45.159739    control     old_page          0\n",
       "2   661590  2017-01-11 16:55:06.154213  treatment     new_page          0\n",
       "3   853541  2017-01-08 18:28:03.143765  treatment     new_page          0\n",
       "4   864975  2017-01-21 01:52:26.210827    control     old_page          1"
      ]
     },
     "execution_count": 101,
     "metadata": {},
     "output_type": "execute_result"
    }
   ],
   "source": [
    "df.head()"
   ]
  },
  {
   "cell_type": "code",
   "execution_count": 102,
   "id": "8d2149f1",
   "metadata": {},
   "outputs": [
    {
     "name": "stdout",
     "output_type": "stream",
     "text": [
      "<class 'pandas.core.frame.DataFrame'>\n",
      "RangeIndex: 294478 entries, 0 to 294477\n",
      "Data columns (total 5 columns):\n",
      " #   Column        Non-Null Count   Dtype \n",
      "---  ------        --------------   ----- \n",
      " 0   user_id       294478 non-null  int64 \n",
      " 1   timestamp     294478 non-null  object\n",
      " 2   group         294478 non-null  object\n",
      " 3   landing_page  294478 non-null  object\n",
      " 4   converted     294478 non-null  int64 \n",
      "dtypes: int64(2), object(3)\n",
      "memory usage: 11.2+ MB\n"
     ]
    }
   ],
   "source": [
    "df.info()"
   ]
  },
  {
   "cell_type": "code",
   "execution_count": 103,
   "id": "b09fc290",
   "metadata": {},
   "outputs": [
    {
     "data": {
      "text/html": [
       "<div>\n",
       "<style scoped>\n",
       "    .dataframe tbody tr th:only-of-type {\n",
       "        vertical-align: middle;\n",
       "    }\n",
       "\n",
       "    .dataframe tbody tr th {\n",
       "        vertical-align: top;\n",
       "    }\n",
       "\n",
       "    .dataframe thead th {\n",
       "        text-align: right;\n",
       "    }\n",
       "</style>\n",
       "<table border=\"1\" class=\"dataframe\">\n",
       "  <thead>\n",
       "    <tr style=\"text-align: right;\">\n",
       "      <th></th>\n",
       "      <th>user_id</th>\n",
       "      <th>converted</th>\n",
       "    </tr>\n",
       "  </thead>\n",
       "  <tbody>\n",
       "    <tr>\n",
       "      <th>count</th>\n",
       "      <td>294478.000000</td>\n",
       "      <td>294478.000000</td>\n",
       "    </tr>\n",
       "    <tr>\n",
       "      <th>mean</th>\n",
       "      <td>787974.124733</td>\n",
       "      <td>0.119659</td>\n",
       "    </tr>\n",
       "    <tr>\n",
       "      <th>std</th>\n",
       "      <td>91210.823776</td>\n",
       "      <td>0.324563</td>\n",
       "    </tr>\n",
       "    <tr>\n",
       "      <th>min</th>\n",
       "      <td>630000.000000</td>\n",
       "      <td>0.000000</td>\n",
       "    </tr>\n",
       "    <tr>\n",
       "      <th>25%</th>\n",
       "      <td>709032.250000</td>\n",
       "      <td>0.000000</td>\n",
       "    </tr>\n",
       "    <tr>\n",
       "      <th>50%</th>\n",
       "      <td>787933.500000</td>\n",
       "      <td>0.000000</td>\n",
       "    </tr>\n",
       "    <tr>\n",
       "      <th>75%</th>\n",
       "      <td>866911.750000</td>\n",
       "      <td>0.000000</td>\n",
       "    </tr>\n",
       "    <tr>\n",
       "      <th>max</th>\n",
       "      <td>945999.000000</td>\n",
       "      <td>1.000000</td>\n",
       "    </tr>\n",
       "  </tbody>\n",
       "</table>\n",
       "</div>"
      ],
      "text/plain": [
       "             user_id      converted\n",
       "count  294478.000000  294478.000000\n",
       "mean   787974.124733       0.119659\n",
       "std     91210.823776       0.324563\n",
       "min    630000.000000       0.000000\n",
       "25%    709032.250000       0.000000\n",
       "50%    787933.500000       0.000000\n",
       "75%    866911.750000       0.000000\n",
       "max    945999.000000       1.000000"
      ]
     },
     "execution_count": 103,
     "metadata": {},
     "output_type": "execute_result"
    }
   ],
   "source": [
    "df.describe()"
   ]
  },
  {
   "cell_type": "code",
   "execution_count": 104,
   "id": "26ddb3ea",
   "metadata": {},
   "outputs": [
    {
     "data": {
      "text/plain": [
       "(294478, 5)"
      ]
     },
     "execution_count": 104,
     "metadata": {},
     "output_type": "execute_result"
    }
   ],
   "source": [
    "df.shape"
   ]
  },
  {
   "cell_type": "code",
   "execution_count": 105,
   "id": "354a5750",
   "metadata": {},
   "outputs": [
    {
     "data": {
      "text/plain": [
       "user_id         0\n",
       "timestamp       0\n",
       "group           0\n",
       "landing_page    0\n",
       "converted       0\n",
       "dtype: int64"
      ]
     },
     "execution_count": 105,
     "metadata": {},
     "output_type": "execute_result"
    }
   ],
   "source": [
    "df.isna().sum()"
   ]
  },
  {
   "cell_type": "code",
   "execution_count": 106,
   "id": "7ef9de34",
   "metadata": {},
   "outputs": [
    {
     "data": {
      "text/plain": [
       "user_id         290584\n",
       "timestamp       294478\n",
       "group                2\n",
       "landing_page         2\n",
       "converted            2\n",
       "dtype: int64"
      ]
     },
     "execution_count": 106,
     "metadata": {},
     "output_type": "execute_result"
    }
   ],
   "source": [
    "df.nunique()"
   ]
  },
  {
   "cell_type": "code",
   "execution_count": 107,
   "id": "8a8e0952",
   "metadata": {},
   "outputs": [
    {
     "data": {
      "text/html": [
       "<div>\n",
       "<style scoped>\n",
       "    .dataframe tbody tr th:only-of-type {\n",
       "        vertical-align: middle;\n",
       "    }\n",
       "\n",
       "    .dataframe tbody tr th {\n",
       "        vertical-align: top;\n",
       "    }\n",
       "\n",
       "    .dataframe thead th {\n",
       "        text-align: right;\n",
       "    }\n",
       "</style>\n",
       "<table border=\"1\" class=\"dataframe\">\n",
       "  <thead>\n",
       "    <tr style=\"text-align: right;\">\n",
       "      <th></th>\n",
       "      <th>user_id</th>\n",
       "      <th>timestamp</th>\n",
       "      <th>group</th>\n",
       "      <th>landing_page</th>\n",
       "      <th>converted</th>\n",
       "    </tr>\n",
       "  </thead>\n",
       "  <tbody>\n",
       "    <tr>\n",
       "      <th>0</th>\n",
       "      <td>851104</td>\n",
       "      <td>2017-01-21 22:11:48.556739</td>\n",
       "      <td>control</td>\n",
       "      <td>old_page</td>\n",
       "      <td>0</td>\n",
       "    </tr>\n",
       "    <tr>\n",
       "      <th>1</th>\n",
       "      <td>804228</td>\n",
       "      <td>2017-01-12 08:01:45.159739</td>\n",
       "      <td>control</td>\n",
       "      <td>old_page</td>\n",
       "      <td>0</td>\n",
       "    </tr>\n",
       "    <tr>\n",
       "      <th>2</th>\n",
       "      <td>661590</td>\n",
       "      <td>2017-01-11 16:55:06.154213</td>\n",
       "      <td>treatment</td>\n",
       "      <td>new_page</td>\n",
       "      <td>0</td>\n",
       "    </tr>\n",
       "    <tr>\n",
       "      <th>3</th>\n",
       "      <td>853541</td>\n",
       "      <td>2017-01-08 18:28:03.143765</td>\n",
       "      <td>treatment</td>\n",
       "      <td>new_page</td>\n",
       "      <td>0</td>\n",
       "    </tr>\n",
       "    <tr>\n",
       "      <th>4</th>\n",
       "      <td>864975</td>\n",
       "      <td>2017-01-21 01:52:26.210827</td>\n",
       "      <td>control</td>\n",
       "      <td>old_page</td>\n",
       "      <td>1</td>\n",
       "    </tr>\n",
       "  </tbody>\n",
       "</table>\n",
       "</div>"
      ],
      "text/plain": [
       "   user_id                   timestamp      group landing_page  converted\n",
       "0   851104  2017-01-21 22:11:48.556739    control     old_page          0\n",
       "1   804228  2017-01-12 08:01:45.159739    control     old_page          0\n",
       "2   661590  2017-01-11 16:55:06.154213  treatment     new_page          0\n",
       "3   853541  2017-01-08 18:28:03.143765  treatment     new_page          0\n",
       "4   864975  2017-01-21 01:52:26.210827    control     old_page          1"
      ]
     },
     "execution_count": 107,
     "metadata": {},
     "output_type": "execute_result"
    }
   ],
   "source": [
    "df.head()"
   ]
  },
  {
   "cell_type": "code",
   "execution_count": 108,
   "id": "220436af",
   "metadata": {},
   "outputs": [
    {
     "data": {
      "text/plain": [
       "['user_id', 'timestamp', 'group', 'landing_page', 'converted']"
      ]
     },
     "execution_count": 108,
     "metadata": {},
     "output_type": "execute_result"
    }
   ],
   "source": [
    "df.columns.tolist()"
   ]
  },
  {
   "cell_type": "markdown",
   "id": "706c37d8",
   "metadata": {},
   "source": [
    "Проверим корректность данных. В идеале контрольная группа (control) должна видеть только old_page, а экспериментальная (treatment) — new_page.\n",
    "\n",
    "**pd.crosstab(df['group'], df['landing_page'])** — это быстрый способ убедиться, что каждая группа в A/B-тесте видит правильную версию страницы\n",
    "\n",
    "Что делать? Попробуем посмотреть дубли пользователей.\n"
   ]
  },
  {
   "cell_type": "code",
   "execution_count": 109,
   "id": "53a6eba6",
   "metadata": {},
   "outputs": [
    {
     "data": {
      "text/html": [
       "<div>\n",
       "<style scoped>\n",
       "    .dataframe tbody tr th:only-of-type {\n",
       "        vertical-align: middle;\n",
       "    }\n",
       "\n",
       "    .dataframe tbody tr th {\n",
       "        vertical-align: top;\n",
       "    }\n",
       "\n",
       "    .dataframe thead th {\n",
       "        text-align: right;\n",
       "    }\n",
       "</style>\n",
       "<table border=\"1\" class=\"dataframe\">\n",
       "  <thead>\n",
       "    <tr style=\"text-align: right;\">\n",
       "      <th>landing_page</th>\n",
       "      <th>new_page</th>\n",
       "      <th>old_page</th>\n",
       "    </tr>\n",
       "    <tr>\n",
       "      <th>group</th>\n",
       "      <th></th>\n",
       "      <th></th>\n",
       "    </tr>\n",
       "  </thead>\n",
       "  <tbody>\n",
       "    <tr>\n",
       "      <th>control</th>\n",
       "      <td>1928</td>\n",
       "      <td>145274</td>\n",
       "    </tr>\n",
       "    <tr>\n",
       "      <th>treatment</th>\n",
       "      <td>145311</td>\n",
       "      <td>1965</td>\n",
       "    </tr>\n",
       "  </tbody>\n",
       "</table>\n",
       "</div>"
      ],
      "text/plain": [
       "landing_page  new_page  old_page\n",
       "group                           \n",
       "control           1928    145274\n",
       "treatment       145311      1965"
      ]
     },
     "execution_count": 109,
     "metadata": {},
     "output_type": "execute_result"
    }
   ],
   "source": [
    "pd.crosstab(df['group'], df['landing_page'])"
   ]
  },
  {
   "cell_type": "markdown",
   "id": "28be0db6",
   "metadata": {},
   "source": [
    "Столбцы: \\\n",
    "    **user_id** – ID пользователя \\\n",
    "    **timestamp** – Дата и время сеанса \\\n",
    "    **group** – Группа эксперимента (control или treatment) \\\n",
    "    **landing_page** – Какую страницу видел пользователь (old_page или new_page) \\\n",
    "    **converted** – Была ли конверсия (0 – нет, 1 – да) \n",
    "\n",
    "В нашем анализе мы будем использовать только столбцы **group** и **converted**."
   ]
  },
  {
   "cell_type": "code",
   "execution_count": 110,
   "id": "0115f0df",
   "metadata": {},
   "outputs": [
    {
     "name": "stdout",
     "output_type": "stream",
     "text": [
      "В датасете 3894 пользователей, которые появляются несколько раз\n"
     ]
    }
   ],
   "source": [
    "user_duplicates = df.groupby('user_id', as_index=False).agg({'group':'count'}) \\\n",
    ".rename({'group':'users_cnt'}, axis=1).query(\"users_cnt > 1\").count().user_id\n",
    "\n",
    "print(f'В датасете {user_duplicates} пользователей, которые появляются несколько раз')"
   ]
  },
  {
   "cell_type": "markdown",
   "id": "3a28f5e5",
   "metadata": {},
   "source": [
    "Удалим из датасета этих пользователей."
   ]
  },
  {
   "cell_type": "code",
   "execution_count": 111,
   "id": "523440d8",
   "metadata": {},
   "outputs": [],
   "source": [
    "session_counts = df['user_id'].value_counts(ascending=False)\n",
    "users_to_drop = session_counts[session_counts > 1].index"
   ]
  },
  {
   "cell_type": "code",
   "execution_count": 112,
   "id": "6c146a0a",
   "metadata": {},
   "outputs": [
    {
     "data": {
      "text/plain": [
       "(294478, 5)"
      ]
     },
     "execution_count": 112,
     "metadata": {},
     "output_type": "execute_result"
    }
   ],
   "source": [
    "df.shape"
   ]
  },
  {
   "cell_type": "code",
   "execution_count": 113,
   "id": "921f4c70",
   "metadata": {},
   "outputs": [],
   "source": [
    "df = df[~df['user_id'].isin(users_to_drop)]"
   ]
  },
  {
   "cell_type": "code",
   "execution_count": 114,
   "id": "12b1b11b",
   "metadata": {},
   "outputs": [
    {
     "data": {
      "text/plain": [
       "(286690, 5)"
      ]
     },
     "execution_count": 114,
     "metadata": {},
     "output_type": "execute_result"
    }
   ],
   "source": [
    "df.shape"
   ]
  },
  {
   "cell_type": "markdown",
   "id": "2803bc4f",
   "metadata": {},
   "source": [
    "Теперь после удаления дубликатов пользователей каждая группа в A/B-тесте видит правильную версию страницы"
   ]
  },
  {
   "cell_type": "code",
   "execution_count": 115,
   "id": "cc5f8ad1",
   "metadata": {},
   "outputs": [
    {
     "data": {
      "text/html": [
       "<div>\n",
       "<style scoped>\n",
       "    .dataframe tbody tr th:only-of-type {\n",
       "        vertical-align: middle;\n",
       "    }\n",
       "\n",
       "    .dataframe tbody tr th {\n",
       "        vertical-align: top;\n",
       "    }\n",
       "\n",
       "    .dataframe thead th {\n",
       "        text-align: right;\n",
       "    }\n",
       "</style>\n",
       "<table border=\"1\" class=\"dataframe\">\n",
       "  <thead>\n",
       "    <tr style=\"text-align: right;\">\n",
       "      <th>landing_page</th>\n",
       "      <th>new_page</th>\n",
       "      <th>old_page</th>\n",
       "    </tr>\n",
       "    <tr>\n",
       "      <th>group</th>\n",
       "      <th></th>\n",
       "      <th></th>\n",
       "    </tr>\n",
       "  </thead>\n",
       "  <tbody>\n",
       "    <tr>\n",
       "      <th>control</th>\n",
       "      <td>0</td>\n",
       "      <td>143293</td>\n",
       "    </tr>\n",
       "    <tr>\n",
       "      <th>treatment</th>\n",
       "      <td>143397</td>\n",
       "      <td>0</td>\n",
       "    </tr>\n",
       "  </tbody>\n",
       "</table>\n",
       "</div>"
      ],
      "text/plain": [
       "landing_page  new_page  old_page\n",
       "group                           \n",
       "control              0    143293\n",
       "treatment       143397         0"
      ]
     },
     "execution_count": 115,
     "metadata": {},
     "output_type": "execute_result"
    }
   ],
   "source": [
    "pd.crosstab(df['group'], df['landing_page'])"
   ]
  },
  {
   "cell_type": "markdown",
   "id": "e7b0b9b9",
   "metadata": {},
   "source": [
    "Теперь случайно выберем 4720 записей для каждой группы (control и treatment)."
   ]
  },
  {
   "cell_type": "code",
   "execution_count": 116,
   "id": "ed254d01",
   "metadata": {},
   "outputs": [],
   "source": [
    "# Метод .sample сделает рандомную выборку:\n",
    "control_sample = df[df['group'] == 'control'].sample(n=required_n)\n",
    "treatment_sample = df[df['group'] == 'treatment'].sample(n=required_n)"
   ]
  },
  {
   "cell_type": "markdown",
   "id": "15ac8e6f",
   "metadata": {},
   "source": [
    "Проверка данных"
   ]
  },
  {
   "cell_type": "code",
   "execution_count": 117,
   "id": "a2d94fe0",
   "metadata": {},
   "outputs": [
    {
     "data": {
      "text/html": [
       "<div>\n",
       "<style scoped>\n",
       "    .dataframe tbody tr th:only-of-type {\n",
       "        vertical-align: middle;\n",
       "    }\n",
       "\n",
       "    .dataframe tbody tr th {\n",
       "        vertical-align: top;\n",
       "    }\n",
       "\n",
       "    .dataframe thead th {\n",
       "        text-align: right;\n",
       "    }\n",
       "</style>\n",
       "<table border=\"1\" class=\"dataframe\">\n",
       "  <thead>\n",
       "    <tr style=\"text-align: right;\">\n",
       "      <th></th>\n",
       "      <th>user_id</th>\n",
       "      <th>timestamp</th>\n",
       "      <th>group</th>\n",
       "      <th>landing_page</th>\n",
       "      <th>converted</th>\n",
       "    </tr>\n",
       "  </thead>\n",
       "  <tbody>\n",
       "    <tr>\n",
       "      <th>219941</th>\n",
       "      <td>910189</td>\n",
       "      <td>2017-01-10 18:28:15.862757</td>\n",
       "      <td>control</td>\n",
       "      <td>old_page</td>\n",
       "      <td>0</td>\n",
       "    </tr>\n",
       "    <tr>\n",
       "      <th>215477</th>\n",
       "      <td>752513</td>\n",
       "      <td>2017-01-12 20:42:52.559193</td>\n",
       "      <td>control</td>\n",
       "      <td>old_page</td>\n",
       "      <td>0</td>\n",
       "    </tr>\n",
       "    <tr>\n",
       "      <th>214012</th>\n",
       "      <td>757545</td>\n",
       "      <td>2017-01-10 02:32:39.790753</td>\n",
       "      <td>control</td>\n",
       "      <td>old_page</td>\n",
       "      <td>0</td>\n",
       "    </tr>\n",
       "    <tr>\n",
       "      <th>276684</th>\n",
       "      <td>740593</td>\n",
       "      <td>2017-01-24 05:18:44.209816</td>\n",
       "      <td>control</td>\n",
       "      <td>old_page</td>\n",
       "      <td>0</td>\n",
       "    </tr>\n",
       "    <tr>\n",
       "      <th>278776</th>\n",
       "      <td>825423</td>\n",
       "      <td>2017-01-06 17:44:40.014434</td>\n",
       "      <td>control</td>\n",
       "      <td>old_page</td>\n",
       "      <td>0</td>\n",
       "    </tr>\n",
       "  </tbody>\n",
       "</table>\n",
       "</div>"
      ],
      "text/plain": [
       "        user_id                   timestamp    group landing_page  converted\n",
       "219941   910189  2017-01-10 18:28:15.862757  control     old_page          0\n",
       "215477   752513  2017-01-12 20:42:52.559193  control     old_page          0\n",
       "214012   757545  2017-01-10 02:32:39.790753  control     old_page          0\n",
       "276684   740593  2017-01-24 05:18:44.209816  control     old_page          0\n",
       "278776   825423  2017-01-06 17:44:40.014434  control     old_page          0"
      ]
     },
     "execution_count": 117,
     "metadata": {},
     "output_type": "execute_result"
    }
   ],
   "source": [
    "control_sample.head()"
   ]
  },
  {
   "cell_type": "code",
   "execution_count": 118,
   "id": "44716847",
   "metadata": {},
   "outputs": [
    {
     "data": {
      "text/plain": [
       "array(['control'], dtype=object)"
      ]
     },
     "execution_count": 118,
     "metadata": {},
     "output_type": "execute_result"
    }
   ],
   "source": [
    "control_sample.group.unique()"
   ]
  },
  {
   "cell_type": "code",
   "execution_count": 119,
   "id": "83a27896",
   "metadata": {},
   "outputs": [
    {
     "data": {
      "text/html": [
       "<div>\n",
       "<style scoped>\n",
       "    .dataframe tbody tr th:only-of-type {\n",
       "        vertical-align: middle;\n",
       "    }\n",
       "\n",
       "    .dataframe tbody tr th {\n",
       "        vertical-align: top;\n",
       "    }\n",
       "\n",
       "    .dataframe thead th {\n",
       "        text-align: right;\n",
       "    }\n",
       "</style>\n",
       "<table border=\"1\" class=\"dataframe\">\n",
       "  <thead>\n",
       "    <tr style=\"text-align: right;\">\n",
       "      <th></th>\n",
       "      <th>user_id</th>\n",
       "      <th>timestamp</th>\n",
       "      <th>group</th>\n",
       "      <th>landing_page</th>\n",
       "      <th>converted</th>\n",
       "    </tr>\n",
       "  </thead>\n",
       "  <tbody>\n",
       "    <tr>\n",
       "      <th>277498</th>\n",
       "      <td>666793</td>\n",
       "      <td>2017-01-05 10:54:05.504705</td>\n",
       "      <td>treatment</td>\n",
       "      <td>new_page</td>\n",
       "      <td>0</td>\n",
       "    </tr>\n",
       "    <tr>\n",
       "      <th>155319</th>\n",
       "      <td>654927</td>\n",
       "      <td>2017-01-08 12:52:34.474131</td>\n",
       "      <td>treatment</td>\n",
       "      <td>new_page</td>\n",
       "      <td>0</td>\n",
       "    </tr>\n",
       "    <tr>\n",
       "      <th>16048</th>\n",
       "      <td>756465</td>\n",
       "      <td>2017-01-17 01:10:12.472546</td>\n",
       "      <td>treatment</td>\n",
       "      <td>new_page</td>\n",
       "      <td>0</td>\n",
       "    </tr>\n",
       "    <tr>\n",
       "      <th>26617</th>\n",
       "      <td>856784</td>\n",
       "      <td>2017-01-17 03:37:31.587726</td>\n",
       "      <td>treatment</td>\n",
       "      <td>new_page</td>\n",
       "      <td>1</td>\n",
       "    </tr>\n",
       "    <tr>\n",
       "      <th>181520</th>\n",
       "      <td>902838</td>\n",
       "      <td>2017-01-15 13:42:20.155972</td>\n",
       "      <td>treatment</td>\n",
       "      <td>new_page</td>\n",
       "      <td>0</td>\n",
       "    </tr>\n",
       "  </tbody>\n",
       "</table>\n",
       "</div>"
      ],
      "text/plain": [
       "        user_id                   timestamp      group landing_page  converted\n",
       "277498   666793  2017-01-05 10:54:05.504705  treatment     new_page          0\n",
       "155319   654927  2017-01-08 12:52:34.474131  treatment     new_page          0\n",
       "16048    756465  2017-01-17 01:10:12.472546  treatment     new_page          0\n",
       "26617    856784  2017-01-17 03:37:31.587726  treatment     new_page          1\n",
       "181520   902838  2017-01-15 13:42:20.155972  treatment     new_page          0"
      ]
     },
     "execution_count": 119,
     "metadata": {},
     "output_type": "execute_result"
    }
   ],
   "source": [
    "treatment_sample.head()"
   ]
  },
  {
   "cell_type": "code",
   "execution_count": 120,
   "id": "4e2f3152",
   "metadata": {},
   "outputs": [
    {
     "data": {
      "text/plain": [
       "array(['treatment'], dtype=object)"
      ]
     },
     "execution_count": 120,
     "metadata": {},
     "output_type": "execute_result"
    }
   ],
   "source": [
    "treatment_sample.group.unique()"
   ]
  },
  {
   "cell_type": "code",
   "execution_count": 121,
   "id": "efe18ef9",
   "metadata": {},
   "outputs": [],
   "source": [
    "ab_test = pd.concat([control_sample, treatment_sample], axis=0)\n",
    "ab_test.reset_index(drop=True, inplace=True)"
   ]
  },
  {
   "cell_type": "code",
   "execution_count": 122,
   "id": "ac239099",
   "metadata": {},
   "outputs": [
    {
     "data": {
      "text/html": [
       "<div>\n",
       "<style scoped>\n",
       "    .dataframe tbody tr th:only-of-type {\n",
       "        vertical-align: middle;\n",
       "    }\n",
       "\n",
       "    .dataframe tbody tr th {\n",
       "        vertical-align: top;\n",
       "    }\n",
       "\n",
       "    .dataframe thead th {\n",
       "        text-align: right;\n",
       "    }\n",
       "</style>\n",
       "<table border=\"1\" class=\"dataframe\">\n",
       "  <thead>\n",
       "    <tr style=\"text-align: right;\">\n",
       "      <th></th>\n",
       "      <th>user_id</th>\n",
       "      <th>timestamp</th>\n",
       "      <th>group</th>\n",
       "      <th>landing_page</th>\n",
       "      <th>converted</th>\n",
       "    </tr>\n",
       "  </thead>\n",
       "  <tbody>\n",
       "    <tr>\n",
       "      <th>0</th>\n",
       "      <td>910189</td>\n",
       "      <td>2017-01-10 18:28:15.862757</td>\n",
       "      <td>control</td>\n",
       "      <td>old_page</td>\n",
       "      <td>0</td>\n",
       "    </tr>\n",
       "    <tr>\n",
       "      <th>1</th>\n",
       "      <td>752513</td>\n",
       "      <td>2017-01-12 20:42:52.559193</td>\n",
       "      <td>control</td>\n",
       "      <td>old_page</td>\n",
       "      <td>0</td>\n",
       "    </tr>\n",
       "    <tr>\n",
       "      <th>2</th>\n",
       "      <td>757545</td>\n",
       "      <td>2017-01-10 02:32:39.790753</td>\n",
       "      <td>control</td>\n",
       "      <td>old_page</td>\n",
       "      <td>0</td>\n",
       "    </tr>\n",
       "    <tr>\n",
       "      <th>3</th>\n",
       "      <td>740593</td>\n",
       "      <td>2017-01-24 05:18:44.209816</td>\n",
       "      <td>control</td>\n",
       "      <td>old_page</td>\n",
       "      <td>0</td>\n",
       "    </tr>\n",
       "    <tr>\n",
       "      <th>4</th>\n",
       "      <td>825423</td>\n",
       "      <td>2017-01-06 17:44:40.014434</td>\n",
       "      <td>control</td>\n",
       "      <td>old_page</td>\n",
       "      <td>0</td>\n",
       "    </tr>\n",
       "  </tbody>\n",
       "</table>\n",
       "</div>"
      ],
      "text/plain": [
       "   user_id                   timestamp    group landing_page  converted\n",
       "0   910189  2017-01-10 18:28:15.862757  control     old_page          0\n",
       "1   752513  2017-01-12 20:42:52.559193  control     old_page          0\n",
       "2   757545  2017-01-10 02:32:39.790753  control     old_page          0\n",
       "3   740593  2017-01-24 05:18:44.209816  control     old_page          0\n",
       "4   825423  2017-01-06 17:44:40.014434  control     old_page          0"
      ]
     },
     "execution_count": 122,
     "metadata": {},
     "output_type": "execute_result"
    }
   ],
   "source": [
    "ab_test.head()"
   ]
  },
  {
   "cell_type": "code",
   "execution_count": 123,
   "id": "21b5b12d",
   "metadata": {},
   "outputs": [
    {
     "data": {
      "text/plain": [
       "array(['control', 'treatment'], dtype=object)"
      ]
     },
     "execution_count": 123,
     "metadata": {},
     "output_type": "execute_result"
    }
   ],
   "source": [
    "ab_test.group.unique()"
   ]
  },
  {
   "cell_type": "code",
   "execution_count": 124,
   "id": "94e8a443",
   "metadata": {},
   "outputs": [
    {
     "data": {
      "text/plain": [
       "(8866, 5)"
      ]
     },
     "execution_count": 124,
     "metadata": {},
     "output_type": "execute_result"
    }
   ],
   "source": [
    "ab_test.shape\n",
    "# 4433 + 4433"
   ]
  },
  {
   "cell_type": "code",
   "execution_count": 125,
   "id": "ab03aee1",
   "metadata": {},
   "outputs": [
    {
     "data": {
      "text/html": [
       "<div>\n",
       "<style scoped>\n",
       "    .dataframe tbody tr th:only-of-type {\n",
       "        vertical-align: middle;\n",
       "    }\n",
       "\n",
       "    .dataframe tbody tr th {\n",
       "        vertical-align: top;\n",
       "    }\n",
       "\n",
       "    .dataframe thead th {\n",
       "        text-align: right;\n",
       "    }\n",
       "</style>\n",
       "<table border=\"1\" class=\"dataframe\">\n",
       "  <thead>\n",
       "    <tr style=\"text-align: right;\">\n",
       "      <th></th>\n",
       "      <th>user_id</th>\n",
       "      <th>timestamp</th>\n",
       "      <th>group</th>\n",
       "      <th>landing_page</th>\n",
       "      <th>converted</th>\n",
       "    </tr>\n",
       "  </thead>\n",
       "  <tbody>\n",
       "    <tr>\n",
       "      <th>0</th>\n",
       "      <td>910189</td>\n",
       "      <td>2017-01-10 18:28:15.862757</td>\n",
       "      <td>control</td>\n",
       "      <td>old_page</td>\n",
       "      <td>0</td>\n",
       "    </tr>\n",
       "    <tr>\n",
       "      <th>1</th>\n",
       "      <td>752513</td>\n",
       "      <td>2017-01-12 20:42:52.559193</td>\n",
       "      <td>control</td>\n",
       "      <td>old_page</td>\n",
       "      <td>0</td>\n",
       "    </tr>\n",
       "    <tr>\n",
       "      <th>2</th>\n",
       "      <td>757545</td>\n",
       "      <td>2017-01-10 02:32:39.790753</td>\n",
       "      <td>control</td>\n",
       "      <td>old_page</td>\n",
       "      <td>0</td>\n",
       "    </tr>\n",
       "    <tr>\n",
       "      <th>3</th>\n",
       "      <td>740593</td>\n",
       "      <td>2017-01-24 05:18:44.209816</td>\n",
       "      <td>control</td>\n",
       "      <td>old_page</td>\n",
       "      <td>0</td>\n",
       "    </tr>\n",
       "    <tr>\n",
       "      <th>4</th>\n",
       "      <td>825423</td>\n",
       "      <td>2017-01-06 17:44:40.014434</td>\n",
       "      <td>control</td>\n",
       "      <td>old_page</td>\n",
       "      <td>0</td>\n",
       "    </tr>\n",
       "  </tbody>\n",
       "</table>\n",
       "</div>"
      ],
      "text/plain": [
       "   user_id                   timestamp    group landing_page  converted\n",
       "0   910189  2017-01-10 18:28:15.862757  control     old_page          0\n",
       "1   752513  2017-01-12 20:42:52.559193  control     old_page          0\n",
       "2   757545  2017-01-10 02:32:39.790753  control     old_page          0\n",
       "3   740593  2017-01-24 05:18:44.209816  control     old_page          0\n",
       "4   825423  2017-01-06 17:44:40.014434  control     old_page          0"
      ]
     },
     "execution_count": 125,
     "metadata": {},
     "output_type": "execute_result"
    }
   ],
   "source": [
    "ab_test.head()"
   ]
  },
  {
   "cell_type": "code",
   "execution_count": 126,
   "id": "70242255",
   "metadata": {},
   "outputs": [
    {
     "data": {
      "text/plain": [
       "control      4433\n",
       "treatment    4433\n",
       "Name: group, dtype: int64"
      ]
     },
     "execution_count": 126,
     "metadata": {},
     "output_type": "execute_result"
    }
   ],
   "source": [
    "ab_test['group'].value_counts()"
   ]
  },
  {
   "cell_type": "markdown",
   "id": "21f38e1a",
   "metadata": {},
   "source": [
    "Сначала посчитаем основные **статистические показатели**:\n",
    "\n",
    "1. Средняя конверсия\n",
    "2. Стандартное отклонение конверсии\n",
    "3. Стандартная ошибка конверсии"
   ]
  },
  {
   "cell_type": "code",
   "execution_count": 127,
   "id": "7e57ccda",
   "metadata": {},
   "outputs": [
    {
     "data": {
      "text/html": [
       "<style type=\"text/css\">\n",
       "</style>\n",
       "<table id=\"T_4eb25\">\n",
       "  <thead>\n",
       "    <tr>\n",
       "      <th class=\"blank level0\" >&nbsp;</th>\n",
       "      <th id=\"T_4eb25_level0_col0\" class=\"col_heading level0 col0\" >conversion_rate</th>\n",
       "      <th id=\"T_4eb25_level0_col1\" class=\"col_heading level0 col1\" >std_deviation</th>\n",
       "      <th id=\"T_4eb25_level0_col2\" class=\"col_heading level0 col2\" >std_error</th>\n",
       "    </tr>\n",
       "    <tr>\n",
       "      <th class=\"index_name level0\" >group</th>\n",
       "      <th class=\"blank col0\" >&nbsp;</th>\n",
       "      <th class=\"blank col1\" >&nbsp;</th>\n",
       "      <th class=\"blank col2\" >&nbsp;</th>\n",
       "    </tr>\n",
       "  </thead>\n",
       "  <tbody>\n",
       "    <tr>\n",
       "      <th id=\"T_4eb25_level0_row0\" class=\"row_heading level0 row0\" >control</th>\n",
       "      <td id=\"T_4eb25_row0_col0\" class=\"data row0 col0\" >0.120</td>\n",
       "      <td id=\"T_4eb25_row0_col1\" class=\"data row0 col1\" >0.325</td>\n",
       "      <td id=\"T_4eb25_row0_col2\" class=\"data row0 col2\" >0.005</td>\n",
       "    </tr>\n",
       "    <tr>\n",
       "      <th id=\"T_4eb25_level0_row1\" class=\"row_heading level0 row1\" >treatment</th>\n",
       "      <td id=\"T_4eb25_row1_col0\" class=\"data row1 col0\" >0.123</td>\n",
       "      <td id=\"T_4eb25_row1_col1\" class=\"data row1 col1\" >0.328</td>\n",
       "      <td id=\"T_4eb25_row1_col2\" class=\"data row1 col2\" >0.005</td>\n",
       "    </tr>\n",
       "  </tbody>\n",
       "</table>\n"
      ],
      "text/plain": [
       "<pandas.io.formats.style.Styler at 0x176275750>"
      ]
     },
     "execution_count": 127,
     "metadata": {},
     "output_type": "execute_result"
    }
   ],
   "source": [
    "conversion_rates = ab_test.groupby('group')['converted']\n",
    "\n",
    "# функция для вычисления стандартного отклонения пропорции\n",
    "# ddof=0 указывает, что используется нормализация на количество значений (для выборки)\n",
    "std_value = lambda x: np.std(x, ddof=0)\n",
    "\n",
    "# функция для вычисления стандартной ошибки пропорции\n",
    "se_value = lambda x: stats.sem(x, ddof=0)  \n",
    "\n",
    "conversion_rates = conversion_rates.agg([np.mean, std_value, se_value])\n",
    "conversion_rates.columns = ['conversion_rate', 'std_deviation', 'std_error']\n",
    "\n",
    "\n",
    "conversion_rates.style.format('{:.3f}')"
   ]
  },
  {
   "cell_type": "markdown",
   "id": "4f05a735",
   "metadata": {},
   "source": [
    "На первый взгляд, новый дизайн немного лучше (12.0% против 12.3%)."
   ]
  },
  {
   "cell_type": "code",
   "execution_count": 134,
   "id": "30c41d2a",
   "metadata": {},
   "outputs": [
    {
     "name": "stderr",
     "output_type": "stream",
     "text": [
      "/var/folders/4r/l6jgz7s11rs2s5hc02k5l7z00000gn/T/ipykernel_1820/2159428254.py:8: FutureWarning: \n",
      "\n",
      "The `ci` parameter is deprecated. Use `errorbar=('ci', False)` for the same effect.\n",
      "\n",
      "  sns.barplot(x=ab_test['group'], y=ab_test['converted'], ci=False, palette=\"pastel\")  # Можно использовать палитры, такие как \"muted\", \"deep\", \"dark\", \"pastel\"\n"
     ]
    },
    {
     "data": {
      "image/png": "[encoded data removed]",
      "text/plain": [
       "<Figure size 800x600 with 1 Axes>"
      ]
     },
     "metadata": {},
     "output_type": "display_data"
    }
   ],
   "source": [
    "# Построим бар плот:\n",
    "import seaborn as sns\n",
    "import matplotlib.pyplot as plt\n",
    "\n",
    "# Построим бар плот с цветами из стандартной палитры:\n",
    "plt.figure(figsize=(8,6))\n",
    "\n",
    "sns.barplot(x=ab_test['group'], y=ab_test['converted'], ci=False, palette=\"pastel\")\n",
    "\n",
    "plt.ylim(0, 0.17)\n",
    "plt.title('Conversion rate by group', pad=20)\n",
    "plt.xlabel('Group', labelpad=15)\n",
    "plt.ylabel('Converted (proportion)', labelpad=15)\n",
    "\n",
    "plt.show()"
   ]
  },
  {
   "cell_type": "markdown",
   "id": "b435090e",
   "metadata": {},
   "source": [
    "Конверсия в экспериментальной группе оказалась чуть выше, но является ли эта небольшая разница **статистически значимой**?"
   ]
  },
  {
   "cell_type": "markdown",
   "id": "1b44e67e",
   "metadata": {},
   "source": [
    "Проведем тесты:\n",
    "    \n",
    "1. z-test\n",
    "2. t-test"
   ]
  },
  {
   "cell_type": "markdown",
   "id": "4df3a7d7",
   "metadata": {},
   "source": [
    "###  Z-test"
   ]
  },
  {
   "cell_type": "code",
   "execution_count": 129,
   "id": "93aa4bef",
   "metadata": {},
   "outputs": [],
   "source": [
    "from statsmodels.stats.proportion import proportions_ztest, proportion_confint"
   ]
  },
  {
   "cell_type": "code",
   "execution_count": 130,
   "id": "4e25ac36",
   "metadata": {},
   "outputs": [],
   "source": [
    "control_results = ab_test[ab_test['group'] == 'control']['converted']\n",
    "treatment_results = ab_test[ab_test['group'] == 'treatment']['converted']"
   ]
  },
  {
   "cell_type": "code",
   "execution_count": 131,
   "id": "9c8d1ca1",
   "metadata": {},
   "outputs": [
    {
     "name": "stdout",
     "output_type": "stream",
     "text": [
      "z statistic: -0.36\n",
      "p-value: 0.721\n",
      "Доверительный интервал 95% for control group: [0.111, 0.130]\n",
      "Доверительный интервал 95% for treatment group: [0.113, 0.133]\n"
     ]
    }
   ],
   "source": [
    "# Подсчет количества наблюдений в каждой группе\n",
    "n_con = control_results.count()\n",
    "n_treat = treatment_results.count()\n",
    "\n",
    "# Подсчет числа успешных конверсий в каждой группе\n",
    "successes = [control_results.sum(), treatment_results.sum()]\n",
    "\n",
    "# Создание списка с количеством наблюдений\n",
    "nobs = [n_con, n_treat]\n",
    "\n",
    "# Проведение z-теста для пропорций\n",
    "z_stat, pval = proportions_ztest(successes, nobs=nobs)\n",
    "\n",
    "# Здесь мы вычисляем 95%-й доверительный интервал для каждой группы (контрольной и экспериментальной). \n",
    "(lower_con, lower_treat), (upper_con, upper_treat) = proportion_confint(successes, nobs=nobs, alpha=0.05)\n",
    "\n",
    "print(f'z statistic: {z_stat:.2f}')\n",
    "print(f'p-value: {pval:.3f}')\n",
    "print(f'Доверительный интервал 95% for control group: [{lower_con:.3f}, {upper_con:.3f}]')\n",
    "print(f'Доверительный интервал 95% for treatment group: [{lower_treat:.3f}, {upper_treat:.3f}]')"
   ]
  },
  {
   "cell_type": "code",
   "execution_count": 135,
   "id": "6bb2c946",
   "metadata": {},
   "outputs": [
    {
     "data": {
      "image/png": "[encoded data removed]",
      "text/plain": [
       "<Figure size 800x600 with 1 Axes>"
      ]
     },
     "metadata": {},
     "output_type": "display_data"
    }
   ],
   "source": [
    "# Создание графика\n",
    "plt.figure(figsize=(8, 6))\n",
    "\n",
    "# Построение вертикальных линий для доверительных интервалов\n",
    "plt.plot([1, 1], [lower_con, upper_con], label='Control Group', color='blue', lw=6)\n",
    "plt.plot([2, 2], [lower_treat, upper_treat], label='Treatment Group', color='green', lw=6)\n",
    "\n",
    "# Добавление точек для средней конверсии (среднее значение пропорции)\n",
    "plt.scatter(1, (lower_con + upper_con) / 2, color='pink', zorder=5, label='Control Mean')\n",
    "plt.scatter(2, (lower_treat + upper_treat) / 2, color='purple', zorder=5, label='Treatment Mean')\n",
    "\n",
    "# Настройка графика\n",
    "plt.xticks([1, 2], ['Control Group', 'Treatment Group'])\n",
    "plt.title('95% Confidence Intervals for Control and Treatment Groups')\n",
    "plt.ylabel('Conversion Rate')\n",
    "plt.xlabel('Group')\n",
    "plt.legend()\n",
    "\n",
    "# Показ графика\n",
    "plt.show()"
   ]
  },
  {
   "cell_type": "markdown",
   "id": "c59c3248",
   "metadata": {},
   "source": [
    "Выводы\n",
    "\n",
    "1. **p-value = 0.721** намного больше 0.05, поэтому мы НЕ можем отвергнуть нулевую гипотезу.\n",
    "2. Новый дизайн не показал статистически значимого улучшения.\n",
    "3. Доверительный интервал тестовой группы **[11.3%, 13.3%]** включает базовое значение 12%, но не включает целевое 14%.\n",
    "\n",
    "=> Новый дизайн не привел к значимому улучшению. Нужно вернуться к разработке новых идей"
   ]
  },
  {
   "cell_type": "code",
   "execution_count": null,
   "id": "97ba89dd",
   "metadata": {},
   "outputs": [],
   "source": []
  },
  {
   "cell_type": "code",
   "execution_count": null,
   "id": "cbfa3c6d",
   "metadata": {},
   "outputs": [],
   "source": []
  },
  {
   "cell_type": "code",
   "execution_count": null,
   "id": "ca7143cd",
   "metadata": {},
   "outputs": [],
   "source": []
  },
  {
   "cell_type": "code",
   "execution_count": null,
   "id": "ca9ca1df",
   "metadata": {},
   "outputs": [],
   "source": []
  },
  {
   "cell_type": "code",
   "execution_count": null,
   "id": "234a9129",
   "metadata": {},
   "outputs": [],
   "source": []
  }
 ],
 "metadata": {
  "kernelspec": {
   "display_name": "Python 3 (ipykernel)",
   "language": "python",
   "name": "python3"
  },
  "language_info": {
   "codemirror_mode": {
    "name": "ipython",
    "version": 3
   },
   "file_extension": ".py",
   "mimetype": "text/x-python",
   "name": "python",
   "nbconvert_exporter": "python",
   "pygments_lexer": "ipython3",
   "version": "3.11.3"
  }
 },
 "nbformat": 4,
 "nbformat_minor": 5
}
