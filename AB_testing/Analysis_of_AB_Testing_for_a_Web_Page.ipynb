{
 "cells": [
  {
   "cell_type": "markdown",
   "id": "8adadf59",
   "metadata": {},
   "source": [
    "## Анализ A/B тестирования двух вариантов дизайна веб-страницы (старый дизайн vs новый дизайн) \n"
   ]
  },
  {
   "cell_type": "markdown",
   "id": "8c88816c",
   "metadata": {},
   "source": [
    "Текущий коэффициент конверсии составляет около 12%. \n",
    "UX-дизайнер разработал новый вариант страницы товара, надеясь повысить коэффициент конверсии.\n",
    "Заказчики хотят увеличить конверсию на 2%.\n",
    "=> если новая версия страницы увеличит конверсию до 14%, ее можно будет считать успешной.\n",
    "\n",
    "Сформулируем две гипотезы (Н0 и Н1):\n",
    "    \n",
    "H₀ (нулевая гипотеза): конверсия нового и старого дизайна не различается \\\n",
    "H₁ (альтернативная гипотеза): конверсия различается\n",
    "\n",
    "Зададим уровень значимости α = 0.05 (5%)\n",
    "\n",
    "\n",
    "Нам нужны две группы пользователей: \n",
    "\n",
    "**Контрольная** группа – видит старый дизайн \\\n",
    "**Экспериментальная** группа – видит новый дизайн \n",
    "\n",
    "Это будет независимая переменная, так как мы меняем только один фактор – дизайн страницы. Это позволяет контролировать другие переменные (например, сезонность) и точно определить влияние нового дизайна.\n",
    "\n",
    "Зависимая переменная – коэффициент конверсии. Для кодирования используем бинарную переменную:\n",
    "\n",
    "**0** – пользователь не совершил покупку \\\n",
    "**1** – пользователь совершил покупку\n",
    "\n",
    "Таким образом, среднее значение в каждой группе будет равно коэффициенту конверсии.    \n",
    "    \n"
   ]
  },
  {
   "cell_type": "code",
   "execution_count": 1,
   "id": "866b6bf8",
   "metadata": {},
   "outputs": [],
   "source": [
    "import numpy as np\n",
    "import pandas as pd\n",
    "import scipy.stats as stats\n",
    "import statsmodels.stats.api as sms\n",
    "import matplotlib as mpl\n",
    "import matplotlib.pyplot as plt\n",
    "import seaborn as sns\n",
    "import math"
   ]
  },
  {
   "cell_type": "markdown",
   "id": "efb899b1",
   "metadata": {},
   "source": [
    "Подсчитаем необходимый размер выборки для A/B - теста с помощью Power Analysis (анализ мощности)."
   ]
  },
  {
   "cell_type": "code",
   "execution_count": 2,
   "id": "edfade3e",
   "metadata": {},
   "outputs": [
    {
     "name": "stdout",
     "output_type": "stream",
     "text": [
      "Количество пользователей, необходимое в каждой группе: 4433\n"
     ]
    }
   ],
   "source": [
    "# sms.proportion_effectsize() вычисляет размер эффекта (effect size) \n",
    "# по двум пропорциям (текущая конверсия 0.13 и ожидаемая 0.15).\n",
    "# Размер эффекта показывает, насколько сильно отличается новое значение от старого.\n",
    "effect_size = sms.proportion_effectsize(0.12, 0.14)\n",
    "\n",
    "# solve_power() решает уравнение мощности теста и возвращает количество наблюдений, \n",
    "# необходимых в каждой группе.\n",
    "required_n = sms.NormalIndPower().solve_power(\n",
    "    effect_size, \n",
    "    power=0.8, # вероятность найти реальную разницу, если она есть (обычно 80%).\n",
    "    alpha=0.05, \n",
    "    ratio=1 # равное количество наблюдений в контрольной и тестовой группах.\n",
    "    )                                                 \n",
    "\n",
    "required_n = math.ceil(required_n)\n",
    "print(f'Количество пользователей, необходимое в каждой группе: {required_n}')"
   ]
  },
  {
   "cell_type": "code",
   "execution_count": 3,
   "id": "7483d1d8",
   "metadata": {},
   "outputs": [
    {
     "data": {
      "text/plain": [
       "-0.05951079608252363"
      ]
     },
     "execution_count": 3,
     "metadata": {},
     "output_type": "execute_result"
    }
   ],
   "source": [
    "effect_size"
   ]
  },
  {
   "cell_type": "code",
   "execution_count": 4,
   "id": "0de28f60",
   "metadata": {},
   "outputs": [],
   "source": [
    "df = pd.read_csv('/Users/Dobrosha/Downloads/ab_data.csv')"
   ]
  },
  {
   "cell_type": "code",
   "execution_count": 5,
   "id": "376dfc2c",
   "metadata": {},
   "outputs": [
    {
     "data": {
      "text/html": [
       "<div>\n",
       "<style scoped>\n",
       "    .dataframe tbody tr th:only-of-type {\n",
       "        vertical-align: middle;\n",
       "    }\n",
       "\n",
       "    .dataframe tbody tr th {\n",
       "        vertical-align: top;\n",
       "    }\n",
       "\n",
       "    .dataframe thead th {\n",
       "        text-align: right;\n",
       "    }\n",
       "</style>\n",
       "<table border=\"1\" class=\"dataframe\">\n",
       "  <thead>\n",
       "    <tr style=\"text-align: right;\">\n",
       "      <th></th>\n",
       "      <th>user_id</th>\n",
       "      <th>timestamp</th>\n",
       "      <th>group</th>\n",
       "      <th>landing_page</th>\n",
       "      <th>converted</th>\n",
       "    </tr>\n",
       "  </thead>\n",
       "  <tbody>\n",
       "    <tr>\n",
       "      <th>0</th>\n",
       "      <td>851104</td>\n",
       "      <td>2017-01-21 22:11:48.556739</td>\n",
       "      <td>control</td>\n",
       "      <td>old_page</td>\n",
       "      <td>0</td>\n",
       "    </tr>\n",
       "    <tr>\n",
       "      <th>1</th>\n",
       "      <td>804228</td>\n",
       "      <td>2017-01-12 08:01:45.159739</td>\n",
       "      <td>control</td>\n",
       "      <td>old_page</td>\n",
       "      <td>0</td>\n",
       "    </tr>\n",
       "    <tr>\n",
       "      <th>2</th>\n",
       "      <td>661590</td>\n",
       "      <td>2017-01-11 16:55:06.154213</td>\n",
       "      <td>treatment</td>\n",
       "      <td>new_page</td>\n",
       "      <td>0</td>\n",
       "    </tr>\n",
       "    <tr>\n",
       "      <th>3</th>\n",
       "      <td>853541</td>\n",
       "      <td>2017-01-08 18:28:03.143765</td>\n",
       "      <td>treatment</td>\n",
       "      <td>new_page</td>\n",
       "      <td>0</td>\n",
       "    </tr>\n",
       "    <tr>\n",
       "      <th>4</th>\n",
       "      <td>864975</td>\n",
       "      <td>2017-01-21 01:52:26.210827</td>\n",
       "      <td>control</td>\n",
       "      <td>old_page</td>\n",
       "      <td>1</td>\n",
       "    </tr>\n",
       "  </tbody>\n",
       "</table>\n",
       "</div>"
      ],
      "text/plain": [
       "   user_id                   timestamp      group landing_page  converted\n",
       "0   851104  2017-01-21 22:11:48.556739    control     old_page          0\n",
       "1   804228  2017-01-12 08:01:45.159739    control     old_page          0\n",
       "2   661590  2017-01-11 16:55:06.154213  treatment     new_page          0\n",
       "3   853541  2017-01-08 18:28:03.143765  treatment     new_page          0\n",
       "4   864975  2017-01-21 01:52:26.210827    control     old_page          1"
      ]
     },
     "execution_count": 5,
     "metadata": {},
     "output_type": "execute_result"
    }
   ],
   "source": [
    "df.head()"
   ]
  },
  {
   "cell_type": "code",
   "execution_count": 6,
   "id": "8d2149f1",
   "metadata": {},
   "outputs": [
    {
     "name": "stdout",
     "output_type": "stream",
     "text": [
      "<class 'pandas.core.frame.DataFrame'>\n",
      "RangeIndex: 294478 entries, 0 to 294477\n",
      "Data columns (total 5 columns):\n",
      " #   Column        Non-Null Count   Dtype \n",
      "---  ------        --------------   ----- \n",
      " 0   user_id       294478 non-null  int64 \n",
      " 1   timestamp     294478 non-null  object\n",
      " 2   group         294478 non-null  object\n",
      " 3   landing_page  294478 non-null  object\n",
      " 4   converted     294478 non-null  int64 \n",
      "dtypes: int64(2), object(3)\n",
      "memory usage: 11.2+ MB\n"
     ]
    }
   ],
   "source": [
    "df.info()"
   ]
  },
  {
   "cell_type": "code",
   "execution_count": 7,
   "id": "b09fc290",
   "metadata": {},
   "outputs": [
    {
     "data": {
      "text/html": [
       "<div>\n",
       "<style scoped>\n",
       "    .dataframe tbody tr th:only-of-type {\n",
       "        vertical-align: middle;\n",
       "    }\n",
       "\n",
       "    .dataframe tbody tr th {\n",
       "        vertical-align: top;\n",
       "    }\n",
       "\n",
       "    .dataframe thead th {\n",
       "        text-align: right;\n",
       "    }\n",
       "</style>\n",
       "<table border=\"1\" class=\"dataframe\">\n",
       "  <thead>\n",
       "    <tr style=\"text-align: right;\">\n",
       "      <th></th>\n",
       "      <th>user_id</th>\n",
       "      <th>converted</th>\n",
       "    </tr>\n",
       "  </thead>\n",
       "  <tbody>\n",
       "    <tr>\n",
       "      <th>count</th>\n",
       "      <td>294478.000000</td>\n",
       "      <td>294478.000000</td>\n",
       "    </tr>\n",
       "    <tr>\n",
       "      <th>mean</th>\n",
       "      <td>787974.124733</td>\n",
       "      <td>0.119659</td>\n",
       "    </tr>\n",
       "    <tr>\n",
       "      <th>std</th>\n",
       "      <td>91210.823776</td>\n",
       "      <td>0.324563</td>\n",
       "    </tr>\n",
       "    <tr>\n",
       "      <th>min</th>\n",
       "      <td>630000.000000</td>\n",
       "      <td>0.000000</td>\n",
       "    </tr>\n",
       "    <tr>\n",
       "      <th>25%</th>\n",
       "      <td>709032.250000</td>\n",
       "      <td>0.000000</td>\n",
       "    </tr>\n",
       "    <tr>\n",
       "      <th>50%</th>\n",
       "      <td>787933.500000</td>\n",
       "      <td>0.000000</td>\n",
       "    </tr>\n",
       "    <tr>\n",
       "      <th>75%</th>\n",
       "      <td>866911.750000</td>\n",
       "      <td>0.000000</td>\n",
       "    </tr>\n",
       "    <tr>\n",
       "      <th>max</th>\n",
       "      <td>945999.000000</td>\n",
       "      <td>1.000000</td>\n",
       "    </tr>\n",
       "  </tbody>\n",
       "</table>\n",
       "</div>"
      ],
      "text/plain": [
       "             user_id      converted\n",
       "count  294478.000000  294478.000000\n",
       "mean   787974.124733       0.119659\n",
       "std     91210.823776       0.324563\n",
       "min    630000.000000       0.000000\n",
       "25%    709032.250000       0.000000\n",
       "50%    787933.500000       0.000000\n",
       "75%    866911.750000       0.000000\n",
       "max    945999.000000       1.000000"
      ]
     },
     "execution_count": 7,
     "metadata": {},
     "output_type": "execute_result"
    }
   ],
   "source": [
    "df.describe()"
   ]
  },
  {
   "cell_type": "code",
   "execution_count": 8,
   "id": "26ddb3ea",
   "metadata": {},
   "outputs": [
    {
     "data": {
      "text/plain": [
       "(294478, 5)"
      ]
     },
     "execution_count": 8,
     "metadata": {},
     "output_type": "execute_result"
    }
   ],
   "source": [
    "df.shape"
   ]
  },
  {
   "cell_type": "code",
   "execution_count": 9,
   "id": "354a5750",
   "metadata": {},
   "outputs": [
    {
     "data": {
      "text/plain": [
       "user_id         0\n",
       "timestamp       0\n",
       "group           0\n",
       "landing_page    0\n",
       "converted       0\n",
       "dtype: int64"
      ]
     },
     "execution_count": 9,
     "metadata": {},
     "output_type": "execute_result"
    }
   ],
   "source": [
    "df.isna().sum()"
   ]
  },
  {
   "cell_type": "code",
   "execution_count": 10,
   "id": "7ef9de34",
   "metadata": {},
   "outputs": [
    {
     "data": {
      "text/plain": [
       "user_id         290584\n",
       "timestamp       294478\n",
       "group                2\n",
       "landing_page         2\n",
       "converted            2\n",
       "dtype: int64"
      ]
     },
     "execution_count": 10,
     "metadata": {},
     "output_type": "execute_result"
    }
   ],
   "source": [
    "df.nunique()"
   ]
  },
  {
   "cell_type": "code",
   "execution_count": 11,
   "id": "8a8e0952",
   "metadata": {},
   "outputs": [
    {
     "data": {
      "text/html": [
       "<div>\n",
       "<style scoped>\n",
       "    .dataframe tbody tr th:only-of-type {\n",
       "        vertical-align: middle;\n",
       "    }\n",
       "\n",
       "    .dataframe tbody tr th {\n",
       "        vertical-align: top;\n",
       "    }\n",
       "\n",
       "    .dataframe thead th {\n",
       "        text-align: right;\n",
       "    }\n",
       "</style>\n",
       "<table border=\"1\" class=\"dataframe\">\n",
       "  <thead>\n",
       "    <tr style=\"text-align: right;\">\n",
       "      <th></th>\n",
       "      <th>user_id</th>\n",
       "      <th>timestamp</th>\n",
       "      <th>group</th>\n",
       "      <th>landing_page</th>\n",
       "      <th>converted</th>\n",
       "    </tr>\n",
       "  </thead>\n",
       "  <tbody>\n",
       "    <tr>\n",
       "      <th>0</th>\n",
       "      <td>851104</td>\n",
       "      <td>2017-01-21 22:11:48.556739</td>\n",
       "      <td>control</td>\n",
       "      <td>old_page</td>\n",
       "      <td>0</td>\n",
       "    </tr>\n",
       "    <tr>\n",
       "      <th>1</th>\n",
       "      <td>804228</td>\n",
       "      <td>2017-01-12 08:01:45.159739</td>\n",
       "      <td>control</td>\n",
       "      <td>old_page</td>\n",
       "      <td>0</td>\n",
       "    </tr>\n",
       "    <tr>\n",
       "      <th>2</th>\n",
       "      <td>661590</td>\n",
       "      <td>2017-01-11 16:55:06.154213</td>\n",
       "      <td>treatment</td>\n",
       "      <td>new_page</td>\n",
       "      <td>0</td>\n",
       "    </tr>\n",
       "    <tr>\n",
       "      <th>3</th>\n",
       "      <td>853541</td>\n",
       "      <td>2017-01-08 18:28:03.143765</td>\n",
       "      <td>treatment</td>\n",
       "      <td>new_page</td>\n",
       "      <td>0</td>\n",
       "    </tr>\n",
       "    <tr>\n",
       "      <th>4</th>\n",
       "      <td>864975</td>\n",
       "      <td>2017-01-21 01:52:26.210827</td>\n",
       "      <td>control</td>\n",
       "      <td>old_page</td>\n",
       "      <td>1</td>\n",
       "    </tr>\n",
       "  </tbody>\n",
       "</table>\n",
       "</div>"
      ],
      "text/plain": [
       "   user_id                   timestamp      group landing_page  converted\n",
       "0   851104  2017-01-21 22:11:48.556739    control     old_page          0\n",
       "1   804228  2017-01-12 08:01:45.159739    control     old_page          0\n",
       "2   661590  2017-01-11 16:55:06.154213  treatment     new_page          0\n",
       "3   853541  2017-01-08 18:28:03.143765  treatment     new_page          0\n",
       "4   864975  2017-01-21 01:52:26.210827    control     old_page          1"
      ]
     },
     "execution_count": 11,
     "metadata": {},
     "output_type": "execute_result"
    }
   ],
   "source": [
    "df.head()"
   ]
  },
  {
   "cell_type": "code",
   "execution_count": 12,
   "id": "220436af",
   "metadata": {},
   "outputs": [
    {
     "data": {
      "text/plain": [
       "['user_id', 'timestamp', 'group', 'landing_page', 'converted']"
      ]
     },
     "execution_count": 12,
     "metadata": {},
     "output_type": "execute_result"
    }
   ],
   "source": [
    "df.columns.tolist()"
   ]
  },
  {
   "cell_type": "markdown",
   "id": "706c37d8",
   "metadata": {},
   "source": [
    "Проверим корректность данных. В идеале контрольная группа (control) должна видеть только old_page, а экспериментальная (treatment) — new_page.\n",
    "\n",
    "**pd.crosstab(df['group'], df['landing_page'])** — это быстрый способ убедиться, что каждая группа в A/B-тесте видит правильную версию страницы\n",
    "\n",
    "Что делать? Попробуем посмотреть дубли пользователей.\n"
   ]
  },
  {
   "cell_type": "code",
   "execution_count": 13,
   "id": "53a6eba6",
   "metadata": {},
   "outputs": [
    {
     "data": {
      "text/html": [
       "<div>\n",
       "<style scoped>\n",
       "    .dataframe tbody tr th:only-of-type {\n",
       "        vertical-align: middle;\n",
       "    }\n",
       "\n",
       "    .dataframe tbody tr th {\n",
       "        vertical-align: top;\n",
       "    }\n",
       "\n",
       "    .dataframe thead th {\n",
       "        text-align: right;\n",
       "    }\n",
       "</style>\n",
       "<table border=\"1\" class=\"dataframe\">\n",
       "  <thead>\n",
       "    <tr style=\"text-align: right;\">\n",
       "      <th>landing_page</th>\n",
       "      <th>new_page</th>\n",
       "      <th>old_page</th>\n",
       "    </tr>\n",
       "    <tr>\n",
       "      <th>group</th>\n",
       "      <th></th>\n",
       "      <th></th>\n",
       "    </tr>\n",
       "  </thead>\n",
       "  <tbody>\n",
       "    <tr>\n",
       "      <th>control</th>\n",
       "      <td>1928</td>\n",
       "      <td>145274</td>\n",
       "    </tr>\n",
       "    <tr>\n",
       "      <th>treatment</th>\n",
       "      <td>145311</td>\n",
       "      <td>1965</td>\n",
       "    </tr>\n",
       "  </tbody>\n",
       "</table>\n",
       "</div>"
      ],
      "text/plain": [
       "landing_page  new_page  old_page\n",
       "group                           \n",
       "control           1928    145274\n",
       "treatment       145311      1965"
      ]
     },
     "execution_count": 13,
     "metadata": {},
     "output_type": "execute_result"
    }
   ],
   "source": [
    "pd.crosstab(df['group'], df['landing_page'])"
   ]
  },
  {
   "cell_type": "markdown",
   "id": "28be0db6",
   "metadata": {},
   "source": [
    "Столбцы: \\\n",
    "    **user_id** – ID пользователя \\\n",
    "    **timestamp** – Дата и время сеанса \\\n",
    "    **group** – Группа эксперимента (control или treatment) \\\n",
    "    **landing_page** – Какую страницу видел пользователь (old_page или new_page) \\\n",
    "    **converted** – Была ли конверсия (0 – нет, 1 – да) \n",
    "\n",
    "В нашем анализе мы будем использовать только столбцы **group** и **converted**."
   ]
  },
  {
   "cell_type": "code",
   "execution_count": 14,
   "id": "0115f0df",
   "metadata": {},
   "outputs": [
    {
     "name": "stdout",
     "output_type": "stream",
     "text": [
      "В датасете 3894 пользователей, которые появляются несколько раз\n"
     ]
    }
   ],
   "source": [
    "user_duplicates = df.groupby('user_id', as_index=False).agg({'group':'count'}) \\\n",
    ".rename({'group':'users_cnt'}, axis=1).query(\"users_cnt > 1\").count().user_id\n",
    "\n",
    "print(f'В датасете {user_duplicates} пользователей, которые появляются несколько раз')"
   ]
  },
  {
   "cell_type": "markdown",
   "id": "3a28f5e5",
   "metadata": {},
   "source": [
    "Удалим из датасета этих пользователей."
   ]
  },
  {
   "cell_type": "code",
   "execution_count": 15,
   "id": "523440d8",
   "metadata": {},
   "outputs": [],
   "source": [
    "session_counts = df['user_id'].value_counts(ascending=False)\n",
    "users_to_drop = session_counts[session_counts > 1].index"
   ]
  },
  {
   "cell_type": "code",
   "execution_count": 16,
   "id": "6c146a0a",
   "metadata": {},
   "outputs": [
    {
     "data": {
      "text/plain": [
       "(294478, 5)"
      ]
     },
     "execution_count": 16,
     "metadata": {},
     "output_type": "execute_result"
    }
   ],
   "source": [
    "df.shape"
   ]
  },
  {
   "cell_type": "code",
   "execution_count": 17,
   "id": "921f4c70",
   "metadata": {},
   "outputs": [],
   "source": [
    "df = df[~df['user_id'].isin(users_to_drop)]"
   ]
  },
  {
   "cell_type": "code",
   "execution_count": 18,
   "id": "12b1b11b",
   "metadata": {},
   "outputs": [
    {
     "data": {
      "text/plain": [
       "(286690, 5)"
      ]
     },
     "execution_count": 18,
     "metadata": {},
     "output_type": "execute_result"
    }
   ],
   "source": [
    "df.shape"
   ]
  },
  {
   "cell_type": "markdown",
   "id": "2803bc4f",
   "metadata": {},
   "source": [
    "Теперь после удаления дубликатов пользователей каждая группа в A/B-тесте видит правильную версию страницы"
   ]
  },
  {
   "cell_type": "code",
   "execution_count": 19,
   "id": "cc5f8ad1",
   "metadata": {},
   "outputs": [
    {
     "data": {
      "text/html": [
       "<div>\n",
       "<style scoped>\n",
       "    .dataframe tbody tr th:only-of-type {\n",
       "        vertical-align: middle;\n",
       "    }\n",
       "\n",
       "    .dataframe tbody tr th {\n",
       "        vertical-align: top;\n",
       "    }\n",
       "\n",
       "    .dataframe thead th {\n",
       "        text-align: right;\n",
       "    }\n",
       "</style>\n",
       "<table border=\"1\" class=\"dataframe\">\n",
       "  <thead>\n",
       "    <tr style=\"text-align: right;\">\n",
       "      <th>landing_page</th>\n",
       "      <th>new_page</th>\n",
       "      <th>old_page</th>\n",
       "    </tr>\n",
       "    <tr>\n",
       "      <th>group</th>\n",
       "      <th></th>\n",
       "      <th></th>\n",
       "    </tr>\n",
       "  </thead>\n",
       "  <tbody>\n",
       "    <tr>\n",
       "      <th>control</th>\n",
       "      <td>0</td>\n",
       "      <td>143293</td>\n",
       "    </tr>\n",
       "    <tr>\n",
       "      <th>treatment</th>\n",
       "      <td>143397</td>\n",
       "      <td>0</td>\n",
       "    </tr>\n",
       "  </tbody>\n",
       "</table>\n",
       "</div>"
      ],
      "text/plain": [
       "landing_page  new_page  old_page\n",
       "group                           \n",
       "control              0    143293\n",
       "treatment       143397         0"
      ]
     },
     "execution_count": 19,
     "metadata": {},
     "output_type": "execute_result"
    }
   ],
   "source": [
    "pd.crosstab(df['group'], df['landing_page'])"
   ]
  },
  {
   "cell_type": "markdown",
   "id": "e7b0b9b9",
   "metadata": {},
   "source": [
    "Теперь случайно выберем 4720 записей для каждой группы (control и treatment)."
   ]
  },
  {
   "cell_type": "code",
   "execution_count": 20,
   "id": "ed254d01",
   "metadata": {},
   "outputs": [],
   "source": [
    "# Метод .sample сделает рандомную выборку:\n",
    "control_sample = df[df['group'] == 'control'].sample(n=required_n)\n",
    "treatment_sample = df[df['group'] == 'treatment'].sample(n=required_n)"
   ]
  },
  {
   "cell_type": "markdown",
   "id": "15ac8e6f",
   "metadata": {},
   "source": [
    "Проверка данных"
   ]
  },
  {
   "cell_type": "code",
   "execution_count": 21,
   "id": "a2d94fe0",
   "metadata": {},
   "outputs": [
    {
     "data": {
      "text/html": [
       "<div>\n",
       "<style scoped>\n",
       "    .dataframe tbody tr th:only-of-type {\n",
       "        vertical-align: middle;\n",
       "    }\n",
       "\n",
       "    .dataframe tbody tr th {\n",
       "        vertical-align: top;\n",
       "    }\n",
       "\n",
       "    .dataframe thead th {\n",
       "        text-align: right;\n",
       "    }\n",
       "</style>\n",
       "<table border=\"1\" class=\"dataframe\">\n",
       "  <thead>\n",
       "    <tr style=\"text-align: right;\">\n",
       "      <th></th>\n",
       "      <th>user_id</th>\n",
       "      <th>timestamp</th>\n",
       "      <th>group</th>\n",
       "      <th>landing_page</th>\n",
       "      <th>converted</th>\n",
       "    </tr>\n",
       "  </thead>\n",
       "  <tbody>\n",
       "    <tr>\n",
       "      <th>238544</th>\n",
       "      <td>785313</td>\n",
       "      <td>2017-01-08 22:05:16.423891</td>\n",
       "      <td>control</td>\n",
       "      <td>old_page</td>\n",
       "      <td>0</td>\n",
       "    </tr>\n",
       "    <tr>\n",
       "      <th>201698</th>\n",
       "      <td>717574</td>\n",
       "      <td>2017-01-05 06:30:08.768490</td>\n",
       "      <td>control</td>\n",
       "      <td>old_page</td>\n",
       "      <td>0</td>\n",
       "    </tr>\n",
       "    <tr>\n",
       "      <th>85273</th>\n",
       "      <td>762324</td>\n",
       "      <td>2017-01-04 01:35:37.961966</td>\n",
       "      <td>control</td>\n",
       "      <td>old_page</td>\n",
       "      <td>0</td>\n",
       "    </tr>\n",
       "    <tr>\n",
       "      <th>145713</th>\n",
       "      <td>890580</td>\n",
       "      <td>2017-01-03 04:05:56.195375</td>\n",
       "      <td>control</td>\n",
       "      <td>old_page</td>\n",
       "      <td>1</td>\n",
       "    </tr>\n",
       "    <tr>\n",
       "      <th>91110</th>\n",
       "      <td>709528</td>\n",
       "      <td>2017-01-15 06:22:33.760571</td>\n",
       "      <td>control</td>\n",
       "      <td>old_page</td>\n",
       "      <td>0</td>\n",
       "    </tr>\n",
       "  </tbody>\n",
       "</table>\n",
       "</div>"
      ],
      "text/plain": [
       "        user_id                   timestamp    group landing_page  converted\n",
       "238544   785313  2017-01-08 22:05:16.423891  control     old_page          0\n",
       "201698   717574  2017-01-05 06:30:08.768490  control     old_page          0\n",
       "85273    762324  2017-01-04 01:35:37.961966  control     old_page          0\n",
       "145713   890580  2017-01-03 04:05:56.195375  control     old_page          1\n",
       "91110    709528  2017-01-15 06:22:33.760571  control     old_page          0"
      ]
     },
     "execution_count": 21,
     "metadata": {},
     "output_type": "execute_result"
    }
   ],
   "source": [
    "control_sample.head()"
   ]
  },
  {
   "cell_type": "code",
   "execution_count": 22,
   "id": "44716847",
   "metadata": {},
   "outputs": [
    {
     "data": {
      "text/plain": [
       "array(['control'], dtype=object)"
      ]
     },
     "execution_count": 22,
     "metadata": {},
     "output_type": "execute_result"
    }
   ],
   "source": [
    "control_sample.group.unique()"
   ]
  },
  {
   "cell_type": "code",
   "execution_count": 23,
   "id": "83a27896",
   "metadata": {},
   "outputs": [
    {
     "data": {
      "text/html": [
       "<div>\n",
       "<style scoped>\n",
       "    .dataframe tbody tr th:only-of-type {\n",
       "        vertical-align: middle;\n",
       "    }\n",
       "\n",
       "    .dataframe tbody tr th {\n",
       "        vertical-align: top;\n",
       "    }\n",
       "\n",
       "    .dataframe thead th {\n",
       "        text-align: right;\n",
       "    }\n",
       "</style>\n",
       "<table border=\"1\" class=\"dataframe\">\n",
       "  <thead>\n",
       "    <tr style=\"text-align: right;\">\n",
       "      <th></th>\n",
       "      <th>user_id</th>\n",
       "      <th>timestamp</th>\n",
       "      <th>group</th>\n",
       "      <th>landing_page</th>\n",
       "      <th>converted</th>\n",
       "    </tr>\n",
       "  </thead>\n",
       "  <tbody>\n",
       "    <tr>\n",
       "      <th>135872</th>\n",
       "      <td>743382</td>\n",
       "      <td>2017-01-23 13:09:42.086465</td>\n",
       "      <td>treatment</td>\n",
       "      <td>new_page</td>\n",
       "      <td>0</td>\n",
       "    </tr>\n",
       "    <tr>\n",
       "      <th>218471</th>\n",
       "      <td>849941</td>\n",
       "      <td>2017-01-07 05:55:41.362547</td>\n",
       "      <td>treatment</td>\n",
       "      <td>new_page</td>\n",
       "      <td>0</td>\n",
       "    </tr>\n",
       "    <tr>\n",
       "      <th>24102</th>\n",
       "      <td>747115</td>\n",
       "      <td>2017-01-21 11:15:50.068723</td>\n",
       "      <td>treatment</td>\n",
       "      <td>new_page</td>\n",
       "      <td>0</td>\n",
       "    </tr>\n",
       "    <tr>\n",
       "      <th>181276</th>\n",
       "      <td>886670</td>\n",
       "      <td>2017-01-24 04:47:36.875945</td>\n",
       "      <td>treatment</td>\n",
       "      <td>new_page</td>\n",
       "      <td>0</td>\n",
       "    </tr>\n",
       "    <tr>\n",
       "      <th>69673</th>\n",
       "      <td>743877</td>\n",
       "      <td>2017-01-20 07:06:16.944124</td>\n",
       "      <td>treatment</td>\n",
       "      <td>new_page</td>\n",
       "      <td>0</td>\n",
       "    </tr>\n",
       "  </tbody>\n",
       "</table>\n",
       "</div>"
      ],
      "text/plain": [
       "        user_id                   timestamp      group landing_page  converted\n",
       "135872   743382  2017-01-23 13:09:42.086465  treatment     new_page          0\n",
       "218471   849941  2017-01-07 05:55:41.362547  treatment     new_page          0\n",
       "24102    747115  2017-01-21 11:15:50.068723  treatment     new_page          0\n",
       "181276   886670  2017-01-24 04:47:36.875945  treatment     new_page          0\n",
       "69673    743877  2017-01-20 07:06:16.944124  treatment     new_page          0"
      ]
     },
     "execution_count": 23,
     "metadata": {},
     "output_type": "execute_result"
    }
   ],
   "source": [
    "treatment_sample.head()"
   ]
  },
  {
   "cell_type": "code",
   "execution_count": 24,
   "id": "4e2f3152",
   "metadata": {},
   "outputs": [
    {
     "data": {
      "text/plain": [
       "array(['treatment'], dtype=object)"
      ]
     },
     "execution_count": 24,
     "metadata": {},
     "output_type": "execute_result"
    }
   ],
   "source": [
    "treatment_sample.group.unique()"
   ]
  },
  {
   "cell_type": "code",
   "execution_count": 25,
   "id": "efe18ef9",
   "metadata": {},
   "outputs": [],
   "source": [
    "ab_test = pd.concat([control_sample, treatment_sample], axis=0)\n",
    "ab_test.reset_index(drop=True, inplace=True)"
   ]
  },
  {
   "cell_type": "code",
   "execution_count": 26,
   "id": "ac239099",
   "metadata": {},
   "outputs": [
    {
     "data": {
      "text/html": [
       "<div>\n",
       "<style scoped>\n",
       "    .dataframe tbody tr th:only-of-type {\n",
       "        vertical-align: middle;\n",
       "    }\n",
       "\n",
       "    .dataframe tbody tr th {\n",
       "        vertical-align: top;\n",
       "    }\n",
       "\n",
       "    .dataframe thead th {\n",
       "        text-align: right;\n",
       "    }\n",
       "</style>\n",
       "<table border=\"1\" class=\"dataframe\">\n",
       "  <thead>\n",
       "    <tr style=\"text-align: right;\">\n",
       "      <th></th>\n",
       "      <th>user_id</th>\n",
       "      <th>timestamp</th>\n",
       "      <th>group</th>\n",
       "      <th>landing_page</th>\n",
       "      <th>converted</th>\n",
       "    </tr>\n",
       "  </thead>\n",
       "  <tbody>\n",
       "    <tr>\n",
       "      <th>0</th>\n",
       "      <td>785313</td>\n",
       "      <td>2017-01-08 22:05:16.423891</td>\n",
       "      <td>control</td>\n",
       "      <td>old_page</td>\n",
       "      <td>0</td>\n",
       "    </tr>\n",
       "    <tr>\n",
       "      <th>1</th>\n",
       "      <td>717574</td>\n",
       "      <td>2017-01-05 06:30:08.768490</td>\n",
       "      <td>control</td>\n",
       "      <td>old_page</td>\n",
       "      <td>0</td>\n",
       "    </tr>\n",
       "    <tr>\n",
       "      <th>2</th>\n",
       "      <td>762324</td>\n",
       "      <td>2017-01-04 01:35:37.961966</td>\n",
       "      <td>control</td>\n",
       "      <td>old_page</td>\n",
       "      <td>0</td>\n",
       "    </tr>\n",
       "    <tr>\n",
       "      <th>3</th>\n",
       "      <td>890580</td>\n",
       "      <td>2017-01-03 04:05:56.195375</td>\n",
       "      <td>control</td>\n",
       "      <td>old_page</td>\n",
       "      <td>1</td>\n",
       "    </tr>\n",
       "    <tr>\n",
       "      <th>4</th>\n",
       "      <td>709528</td>\n",
       "      <td>2017-01-15 06:22:33.760571</td>\n",
       "      <td>control</td>\n",
       "      <td>old_page</td>\n",
       "      <td>0</td>\n",
       "    </tr>\n",
       "  </tbody>\n",
       "</table>\n",
       "</div>"
      ],
      "text/plain": [
       "   user_id                   timestamp    group landing_page  converted\n",
       "0   785313  2017-01-08 22:05:16.423891  control     old_page          0\n",
       "1   717574  2017-01-05 06:30:08.768490  control     old_page          0\n",
       "2   762324  2017-01-04 01:35:37.961966  control     old_page          0\n",
       "3   890580  2017-01-03 04:05:56.195375  control     old_page          1\n",
       "4   709528  2017-01-15 06:22:33.760571  control     old_page          0"
      ]
     },
     "execution_count": 26,
     "metadata": {},
     "output_type": "execute_result"
    }
   ],
   "source": [
    "ab_test.head()"
   ]
  },
  {
   "cell_type": "code",
   "execution_count": 27,
   "id": "21b5b12d",
   "metadata": {},
   "outputs": [
    {
     "data": {
      "text/plain": [
       "array(['control', 'treatment'], dtype=object)"
      ]
     },
     "execution_count": 27,
     "metadata": {},
     "output_type": "execute_result"
    }
   ],
   "source": [
    "ab_test.group.unique()"
   ]
  },
  {
   "cell_type": "code",
   "execution_count": 28,
   "id": "94e8a443",
   "metadata": {},
   "outputs": [
    {
     "data": {
      "text/plain": [
       "(8866, 5)"
      ]
     },
     "execution_count": 28,
     "metadata": {},
     "output_type": "execute_result"
    }
   ],
   "source": [
    "ab_test.shape\n",
    "# 4433 + 4433"
   ]
  },
  {
   "cell_type": "code",
   "execution_count": 29,
   "id": "ab03aee1",
   "metadata": {},
   "outputs": [
    {
     "data": {
      "text/html": [
       "<div>\n",
       "<style scoped>\n",
       "    .dataframe tbody tr th:only-of-type {\n",
       "        vertical-align: middle;\n",
       "    }\n",
       "\n",
       "    .dataframe tbody tr th {\n",
       "        vertical-align: top;\n",
       "    }\n",
       "\n",
       "    .dataframe thead th {\n",
       "        text-align: right;\n",
       "    }\n",
       "</style>\n",
       "<table border=\"1\" class=\"dataframe\">\n",
       "  <thead>\n",
       "    <tr style=\"text-align: right;\">\n",
       "      <th></th>\n",
       "      <th>user_id</th>\n",
       "      <th>timestamp</th>\n",
       "      <th>group</th>\n",
       "      <th>landing_page</th>\n",
       "      <th>converted</th>\n",
       "    </tr>\n",
       "  </thead>\n",
       "  <tbody>\n",
       "    <tr>\n",
       "      <th>0</th>\n",
       "      <td>785313</td>\n",
       "      <td>2017-01-08 22:05:16.423891</td>\n",
       "      <td>control</td>\n",
       "      <td>old_page</td>\n",
       "      <td>0</td>\n",
       "    </tr>\n",
       "    <tr>\n",
       "      <th>1</th>\n",
       "      <td>717574</td>\n",
       "      <td>2017-01-05 06:30:08.768490</td>\n",
       "      <td>control</td>\n",
       "      <td>old_page</td>\n",
       "      <td>0</td>\n",
       "    </tr>\n",
       "    <tr>\n",
       "      <th>2</th>\n",
       "      <td>762324</td>\n",
       "      <td>2017-01-04 01:35:37.961966</td>\n",
       "      <td>control</td>\n",
       "      <td>old_page</td>\n",
       "      <td>0</td>\n",
       "    </tr>\n",
       "    <tr>\n",
       "      <th>3</th>\n",
       "      <td>890580</td>\n",
       "      <td>2017-01-03 04:05:56.195375</td>\n",
       "      <td>control</td>\n",
       "      <td>old_page</td>\n",
       "      <td>1</td>\n",
       "    </tr>\n",
       "    <tr>\n",
       "      <th>4</th>\n",
       "      <td>709528</td>\n",
       "      <td>2017-01-15 06:22:33.760571</td>\n",
       "      <td>control</td>\n",
       "      <td>old_page</td>\n",
       "      <td>0</td>\n",
       "    </tr>\n",
       "  </tbody>\n",
       "</table>\n",
       "</div>"
      ],
      "text/plain": [
       "   user_id                   timestamp    group landing_page  converted\n",
       "0   785313  2017-01-08 22:05:16.423891  control     old_page          0\n",
       "1   717574  2017-01-05 06:30:08.768490  control     old_page          0\n",
       "2   762324  2017-01-04 01:35:37.961966  control     old_page          0\n",
       "3   890580  2017-01-03 04:05:56.195375  control     old_page          1\n",
       "4   709528  2017-01-15 06:22:33.760571  control     old_page          0"
      ]
     },
     "execution_count": 29,
     "metadata": {},
     "output_type": "execute_result"
    }
   ],
   "source": [
    "ab_test.head()"
   ]
  },
  {
   "cell_type": "code",
   "execution_count": 30,
   "id": "70242255",
   "metadata": {},
   "outputs": [
    {
     "data": {
      "text/plain": [
       "control      4433\n",
       "treatment    4433\n",
       "Name: group, dtype: int64"
      ]
     },
     "execution_count": 30,
     "metadata": {},
     "output_type": "execute_result"
    }
   ],
   "source": [
    "ab_test['group'].value_counts()"
   ]
  },
  {
   "cell_type": "markdown",
   "id": "21f38e1a",
   "metadata": {},
   "source": [
    "Сначала посчитаем основные **статистические показатели**:\n",
    "\n",
    "1. Средняя конверсия\n",
    "2. Стандартное отклонение конверсии\n",
    "3. Стандартная ошибка конверсии"
   ]
  },
  {
   "cell_type": "code",
   "execution_count": 56,
   "id": "34eaf3aa",
   "metadata": {},
   "outputs": [],
   "source": [
    "conv_r = ab_test.groupby('group')['converted']"
   ]
  },
  {
   "cell_type": "code",
   "execution_count": 57,
   "id": "6dd7ecea",
   "metadata": {},
   "outputs": [],
   "source": [
    "std_value = lambda x: np.std(x, ddof=1)\n",
    "se_value = lambda x: stats.sem(x, ddof=1)  "
   ]
  },
  {
   "cell_type": "code",
   "execution_count": 58,
   "id": "8f6c9527",
   "metadata": {},
   "outputs": [
    {
     "data": {
      "text/html": [
       "<style type=\"text/css\">\n",
       "</style>\n",
       "<table id=\"T_fb5be\">\n",
       "  <thead>\n",
       "    <tr>\n",
       "      <th class=\"blank level0\" >&nbsp;</th>\n",
       "      <th id=\"T_fb5be_level0_col0\" class=\"col_heading level0 col0\" >conversion_rate</th>\n",
       "      <th id=\"T_fb5be_level0_col1\" class=\"col_heading level0 col1\" >std_deviation</th>\n",
       "      <th id=\"T_fb5be_level0_col2\" class=\"col_heading level0 col2\" >std_error</th>\n",
       "    </tr>\n",
       "    <tr>\n",
       "      <th class=\"index_name level0\" >group</th>\n",
       "      <th class=\"blank col0\" >&nbsp;</th>\n",
       "      <th class=\"blank col1\" >&nbsp;</th>\n",
       "      <th class=\"blank col2\" >&nbsp;</th>\n",
       "    </tr>\n",
       "  </thead>\n",
       "  <tbody>\n",
       "    <tr>\n",
       "      <th id=\"T_fb5be_level0_row0\" class=\"row_heading level0 row0\" >control</th>\n",
       "      <td id=\"T_fb5be_row0_col0\" class=\"data row0 col0\" >0.120</td>\n",
       "      <td id=\"T_fb5be_row0_col1\" class=\"data row0 col1\" >0.324</td>\n",
       "      <td id=\"T_fb5be_row0_col2\" class=\"data row0 col2\" >0.005</td>\n",
       "    </tr>\n",
       "    <tr>\n",
       "      <th id=\"T_fb5be_level0_row1\" class=\"row_heading level0 row1\" >treatment</th>\n",
       "      <td id=\"T_fb5be_row1_col0\" class=\"data row1 col0\" >0.124</td>\n",
       "      <td id=\"T_fb5be_row1_col1\" class=\"data row1 col1\" >0.329</td>\n",
       "      <td id=\"T_fb5be_row1_col2\" class=\"data row1 col2\" >0.005</td>\n",
       "    </tr>\n",
       "  </tbody>\n",
       "</table>\n"
      ],
      "text/plain": [
       "<pandas.io.formats.style.Styler at 0x12f108b90>"
      ]
     },
     "execution_count": 58,
     "metadata": {},
     "output_type": "execute_result"
    }
   ],
   "source": [
    "conv_r = conv_r.agg([np.mean, std_value, se_value])\n",
    "conv_r.columns = ['conversion_rate', 'std_deviation', 'std_error']\n",
    "\n",
    "\n",
    "conv_r.style.format('{:.3f}')"
   ]
  },
  {
   "cell_type": "code",
   "execution_count": 76,
   "id": "64bcb702",
   "metadata": {},
   "outputs": [],
   "source": [
    "# els_n = ab_test[ab_test['group'] == 'control']['converted'].count()\n",
    "# mean_2 = np.mean(ab_test[ab_test['group'] == 'control']['converted'])\n",
    "# std_my = np.std(ab_test[ab_test['group'] == 'control']['converted'], ddof = 0)\n",
    "# se_my = std_my / math.sqrt(els_n)\n",
    "# se_2 = stats.sem(ab_test[ab_test['group'] == 'control']['converted'])"
   ]
  },
  {
   "cell_type": "code",
   "execution_count": 31,
   "id": "7e57ccda",
   "metadata": {},
   "outputs": [
    {
     "data": {
      "text/html": [
       "<style type=\"text/css\">\n",
       "</style>\n",
       "<table id=\"T_bd7ba\">\n",
       "  <thead>\n",
       "    <tr>\n",
       "      <th class=\"blank level0\" >&nbsp;</th>\n",
       "      <th id=\"T_bd7ba_level0_col0\" class=\"col_heading level0 col0\" >conversion_rate</th>\n",
       "      <th id=\"T_bd7ba_level0_col1\" class=\"col_heading level0 col1\" >std_deviation</th>\n",
       "      <th id=\"T_bd7ba_level0_col2\" class=\"col_heading level0 col2\" >std_error</th>\n",
       "    </tr>\n",
       "    <tr>\n",
       "      <th class=\"index_name level0\" >group</th>\n",
       "      <th class=\"blank col0\" >&nbsp;</th>\n",
       "      <th class=\"blank col1\" >&nbsp;</th>\n",
       "      <th class=\"blank col2\" >&nbsp;</th>\n",
       "    </tr>\n",
       "  </thead>\n",
       "  <tbody>\n",
       "    <tr>\n",
       "      <th id=\"T_bd7ba_level0_row0\" class=\"row_heading level0 row0\" >control</th>\n",
       "      <td id=\"T_bd7ba_row0_col0\" class=\"data row0 col0\" >0.120</td>\n",
       "      <td id=\"T_bd7ba_row0_col1\" class=\"data row0 col1\" >0.324</td>\n",
       "      <td id=\"T_bd7ba_row0_col2\" class=\"data row0 col2\" >0.005</td>\n",
       "    </tr>\n",
       "    <tr>\n",
       "      <th id=\"T_bd7ba_level0_row1\" class=\"row_heading level0 row1\" >treatment</th>\n",
       "      <td id=\"T_bd7ba_row1_col0\" class=\"data row1 col0\" >0.124</td>\n",
       "      <td id=\"T_bd7ba_row1_col1\" class=\"data row1 col1\" >0.329</td>\n",
       "      <td id=\"T_bd7ba_row1_col2\" class=\"data row1 col2\" >0.005</td>\n",
       "    </tr>\n",
       "  </tbody>\n",
       "</table>\n"
      ],
      "text/plain": [
       "<pandas.io.formats.style.Styler at 0x1299a9c90>"
      ]
     },
     "execution_count": 31,
     "metadata": {},
     "output_type": "execute_result"
    }
   ],
   "source": [
    "conversion_rates = ab_test.groupby('group')['converted']\n",
    "\n",
    "# функция для вычисления стандартного отклонения пропорции\n",
    "std_value = lambda x: np.std(x, ddof=0)\n",
    "\n",
    "# функция для вычисления стандартной ошибки пропорции\n",
    "se_value = lambda x: stats.sem(x, ddof=0)  \n",
    "\n",
    "conversion_rates = conversion_rates.agg([np.mean, std_value, se_value])\n",
    "conversion_rates.columns = ['conversion_rate', 'std_deviation', 'std_error']\n",
    "\n",
    "\n",
    "conversion_rates.style.format('{:.3f}')"
   ]
  },
  {
   "cell_type": "markdown",
   "id": "4f05a735",
   "metadata": {},
   "source": [
    "На первый взгляд, новый дизайн немного лучше (12.0% против 12.4%)."
   ]
  },
  {
   "cell_type": "code",
   "execution_count": 38,
   "id": "30c41d2a",
   "metadata": {},
   "outputs": [
    {
     "data": {
      "image/png": "[encoded data removed]",
      "text/plain": [
       "<Figure size 800x600 with 1 Axes>"
      ]
     },
     "metadata": {},
     "output_type": "display_data"
    }
   ],
   "source": [
    "# Построим бар плот:\n",
    "import seaborn as sns\n",
    "import matplotlib.pyplot as plt\n",
    "\n",
    "# Построим бар плот с цветами из стандартной палитры:\n",
    "plt.figure(figsize=(8,6))\n",
    "\n",
    "sns.barplot(x=ab_test['group'], y=ab_test['converted'], errorbar=('ci', False), palette=\"pastel\")\n",
    "\n",
    "plt.ylim(0, 0.17)\n",
    "plt.title('Показатель конверсии в группах', pad=20)\n",
    "plt.xlabel('Group', labelpad=15)\n",
    "plt.ylabel('Converted (proportion)', labelpad=15)\n",
    "\n",
    "plt.show()"
   ]
  },
  {
   "cell_type": "markdown",
   "id": "b435090e",
   "metadata": {},
   "source": [
    "Конверсия в экспериментальной группе оказалась чуть выше, но является ли эта небольшая разница **статистически значимой**?"
   ]
  },
  {
   "cell_type": "markdown",
   "id": "1b44e67e",
   "metadata": {},
   "source": [
    "Проведем тесты:\n",
    "    \n",
    "1. z-test\n",
    "2. t-test"
   ]
  },
  {
   "cell_type": "markdown",
   "id": "4df3a7d7",
   "metadata": {},
   "source": [
    "###  Z-test"
   ]
  },
  {
   "cell_type": "code",
   "execution_count": 33,
   "id": "93aa4bef",
   "metadata": {},
   "outputs": [],
   "source": [
    "from statsmodels.stats.proportion import proportions_ztest, proportion_confint"
   ]
  },
  {
   "cell_type": "code",
   "execution_count": 34,
   "id": "4e25ac36",
   "metadata": {},
   "outputs": [],
   "source": [
    "control_results = ab_test[ab_test['group'] == 'control']['converted']\n",
    "treatment_results = ab_test[ab_test['group'] == 'treatment']['converted']"
   ]
  },
  {
   "cell_type": "code",
   "execution_count": 35,
   "id": "9c8d1ca1",
   "metadata": {},
   "outputs": [
    {
     "name": "stdout",
     "output_type": "stream",
     "text": [
      "z statistic: -0.58\n",
      "p-value: 0.559\n",
      "Доверительный интервал 95% for control group: [0.110, 0.129]\n",
      "Доверительный интервал 95% for treatment group: [0.114, 0.133]\n"
     ]
    }
   ],
   "source": [
    "# Подсчет количества наблюдений в каждой группе\n",
    "n_con = control_results.count()\n",
    "n_treat = treatment_results.count()\n",
    "\n",
    "# Подсчет числа успешных конверсий в каждой группе\n",
    "successes = [control_results.sum(), treatment_results.sum()]\n",
    "\n",
    "# Создание списка с количеством наблюдений\n",
    "nobs = [n_con, n_treat]\n",
    "\n",
    "# Проведение z-теста для пропорций\n",
    "z_stat, pval = proportions_ztest(successes, nobs=nobs)\n",
    "\n",
    "# Здесь мы вычисляем 95%-й доверительный интервал для каждой группы (контрольной и экспериментальной). \n",
    "(lower_con, lower_treat), (upper_con, upper_treat) = proportion_confint(successes, nobs=nobs, alpha=0.05)\n",
    "\n",
    "print(f'z statistic: {z_stat:.2f}')\n",
    "print(f'p-value: {pval:.3f}')\n",
    "print(f'Доверительный интервал 95% for control group: [{lower_con:.3f}, {upper_con:.3f}]')\n",
    "print(f'Доверительный интервал 95% for treatment group: [{lower_treat:.3f}, {upper_treat:.3f}]')"
   ]
  },
  {
   "cell_type": "code",
   "execution_count": 81,
   "id": "6bb2c946",
   "metadata": {},
   "outputs": [
    {
     "data": {
      "image/png": "[encoded data removed]",
      "text/plain": [
       "<Figure size 800x600 with 1 Axes>"
      ]
     },
     "metadata": {},
     "output_type": "display_data"
    }
   ],
   "source": [
    "# Создание графика\n",
    "plt.figure(figsize=(8, 6))\n",
    "\n",
    "# Построение вертикальных линий для доверительных интервалов\n",
    "plt.plot([1, 1], [lower_con, upper_con], label='Control Group', color='blue', lw=6)\n",
    "plt.plot([2, 2], [lower_treat, upper_treat], label='Treatment Group', color='black', lw=6)\n",
    "\n",
    "# Добавление точек для средней конверсии (среднее значение пропорции)\n",
    "plt.scatter(1, (lower_con + upper_con) / 2, color='pink', zorder=5, label='Control Mean')\n",
    "plt.scatter(2, (lower_treat + upper_treat) / 2, color='grey', zorder=5, label='Treatment Mean')\n",
    "\n",
    "# Настройка графика\n",
    "plt.xticks([1, 2], ['Control Group', 'Treatment Group'])\n",
    "plt.title('95% Доверительные интервалы для контрольной и тестовой групп')\n",
    "plt.ylabel('Conversion Rate')\n",
    "plt.xlabel('Group')\n",
    "plt.legend()\n",
    "\n",
    "# Показ графика\n",
    "plt.show()"
   ]
  },
  {
   "cell_type": "markdown",
   "id": "c59c3248",
   "metadata": {},
   "source": [
    "Выводы\n",
    "\n",
    "1. **p-value = 0.559** намного больше 0.05, поэтому мы НЕ можем отвергнуть нулевую гипотезу.\n",
    "2. Новый дизайн не показал статистически значимого улучшения.\n",
    "3. Доверительный интервал тестовой группы **[11.4%, 13.3%]** включает базовое значение 12%, но не включает целевое 14%.\n",
    "\n",
    "=> Новый дизайн не привел к значимому улучшению. Нужно вернуться к разработке новых идей"
   ]
  },
  {
   "cell_type": "markdown",
   "id": "57464ecb",
   "metadata": {},
   "source": [
    "###  t-test"
   ]
  },
  {
   "cell_type": "code",
   "execution_count": 43,
   "id": "cbfa3c6d",
   "metadata": {},
   "outputs": [
    {
     "name": "stdout",
     "output_type": "stream",
     "text": [
      "T-statistic: -0.5849\n",
      "P-value: 0.5586\n",
      "Не удалось отклонить нулевую гипотезу: значимых различий нет\n"
     ]
    }
   ],
   "source": [
    "from scipy import stats\n",
    "\n",
    "t_stat, p_value = stats.ttest_ind(control_results, treatment_results, equal_var=False)  # Welch’s t-test\n",
    "\n",
    "print(f\"T-statistic: {t_stat:.4f}\")\n",
    "print(f\"P-value: {p_value:.4f}\")\n",
    "\n",
    "alpha = 0.0\n",
    "if p_value < alpha:\n",
    "    print(\"Отклоняем нулевую гипотезу: разница между группами статистически значима\")\n",
    "else:\n",
    "    print(\"Не удалось отклонить нулевую гипотезу: значимых различий нет\")"
   ]
  },
  {
   "cell_type": "markdown",
   "id": "ac6f1011",
   "metadata": {},
   "source": [
    "Результаты t-теста и z-теста схожи.\n",
    "\n",
    "Вывод: \\\n",
    "p-value **> 0.05** => мы не обнаружили статистически значимых различий в показателе конверсии для групп со старым дизайном веб-страницы и новым.\n",
    "\n",
    "Поэтому мы не можем отклонить нулевую гипотезу.\n",
    "\n",
    "Также более вероятно, что истинный коэффициент конверсии нового дизайна будет аналогичен нашему базовому уровню (12%), а не целевому показателю в 14%, на который мы надеялись. Это еще одно доказательство того, что наш новый дизайн вряд ли будет улучшением старого."
   ]
  }
 ],
 "metadata": {
  "kernelspec": {
   "display_name": "Python 3 (ipykernel)",
   "language": "python",
   "name": "python3"
  },
  "language_info": {
   "codemirror_mode": {
    "name": "ipython",
    "version": 3
   },
   "file_extension": ".py",
   "mimetype": "text/x-python",
   "name": "python",
   "nbconvert_exporter": "python",
   "pygments_lexer": "ipython3",
   "version": "3.11.3"
  }
 },
 "nbformat": 4,
 "nbformat_minor": 5
}
